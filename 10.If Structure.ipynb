{
 "cells": [
  {
   "cell_type": "markdown",
   "id": "60d34631-1ddf-43fc-bf9a-759ea5842f78",
   "metadata": {},
   "source": [
    "ساختار شرطی:"
   ]
  },
  {
   "cell_type": "code",
   "execution_count": null,
   "id": "4970a366-065c-4571-a11d-fabaa2edbcc8",
   "metadata": {},
   "outputs": [],
   "source": [
    "# اجزا ساختار شرطی{\n",
    "#                 if ---> اجباری،فقط یکی،دارای کاندیشن                \n",
    "#                 elif ---> اختیاری،بینهایت،دارای کاندیشن\n",
    "#                 else ---> اختیاری،فقط یکی،بدون کاندیشن\n",
    "#                 }"
   ]
  },
  {
   "cell_type": "code",
   "execution_count": null,
   "id": "26c4c5f0-3f7d-4a8c-ad1a-5baab16a0c0d",
   "metadata": {},
   "outputs": [],
   "source": [
    "# if condition:\n",
    "#     ...\n",
    "# elif condition:\n",
    "#     ...\n",
    "# elif condition:\n",
    "#     ...\n",
    "# else:\n",
    "#     ..."
   ]
  },
  {
   "cell_type": "markdown",
   "id": "446fb978-c7cb-4c5c-a8c4-2da1cc68d7d3",
   "metadata": {},
   "source": [
    "سن قانونی"
   ]
  },
  {
   "cell_type": "code",
   "execution_count": 1,
   "id": "494922f5-eb00-4708-949b-1beaf99a338b",
   "metadata": {},
   "outputs": [
    {
     "name": "stdout",
     "output_type": "stream",
     "text": [
      "Ok\n"
     ]
    }
   ],
   "source": [
    "x = 50\n",
    "if x>18:\n",
    "    print('Ok')\n",
    "else:\n",
    "    print('No')"
   ]
  },
  {
   "cell_type": "markdown",
   "id": "d3626468-defc-4f66-a793-0a60c14fda46",
   "metadata": {},
   "source": [
    "تشکیل مثلث"
   ]
  },
  {
   "cell_type": "code",
   "execution_count": 2,
   "id": "53103b3d-dc42-4073-bc6f-a371ba8221d6",
   "metadata": {},
   "outputs": [
    {
     "name": "stdout",
     "output_type": "stream",
     "text": [
      "no\n"
     ]
    }
   ],
   "source": [
    "x = 3\n",
    "y = 10\n",
    "z = 5\n",
    "if (x+y>z) and (x+z>y) and (z+y>x):\n",
    "    print('Ok')\n",
    "else:\n",
    "    print('no')"
   ]
  }
 ],
 "metadata": {
  "kernelspec": {
   "display_name": "Python 3 (ipykernel)",
   "language": "python",
   "name": "python3"
  },
  "language_info": {
   "codemirror_mode": {
    "name": "ipython",
    "version": 3
   },
   "file_extension": ".py",
   "mimetype": "text/x-python",
   "name": "python",
   "nbconvert_exporter": "python",
   "pygments_lexer": "ipython3",
   "version": "3.12.6"
  }
 },
 "nbformat": 4,
 "nbformat_minor": 5
}
