{
 "cells": [
  {
   "cell_type": "markdown",
   "id": "7d6e4b45-7cbb-4813-9d3d-c6bed2ac2433",
   "metadata": {},
   "source": [
    "تبدیل دیتا تایپ ها"
   ]
  },
  {
   "cell_type": "markdown",
   "id": "56cd7022-5604-4b9c-b002-efbf93a8a7b5",
   "metadata": {},
   "source": [
    "در صورت امکان تبدیل میتواینم دیتا تایپ ها را تبدیل کنیم"
   ]
  },
  {
   "cell_type": "code",
   "execution_count": 17,
   "id": "7bf7364e-0e63-4892-b955-b060244aa1c4",
   "metadata": {},
   "outputs": [
    {
     "name": "stdout",
     "output_type": "stream",
     "text": [
      "50\n",
      "<class 'str'>\n",
      "50.5\n",
      "<class 'str'>\n",
      "[1, 2, 3]\n",
      "<class 'str'>\n",
      "(1, 2, 3)\n",
      "<class 'str'>\n",
      "{1, 2, 3}\n",
      "<class 'str'>\n",
      "{'name': 'alireza', 'age': 17}\n",
      "<class 'str'>\n"
     ]
    }
   ],
   "source": [
    "# str()\n",
    "# int ---> str ✓  \n",
    "s = str(50)\n",
    "print(s)\n",
    "print(type(s))\n",
    "# float ---> str ✓\n",
    "s = str(50.5)\n",
    "print(s)\n",
    "print(type(s))\n",
    "# list ---> str ✓\n",
    "s = str([1, 2, 3])\n",
    "print(s)\n",
    "print(type(s))\n",
    "# typle ---> str ✓\n",
    "s = str((1, 2, 3))\n",
    "print(s)\n",
    "print(type(s))\n",
    "# set ---> str ✓\n",
    "s = str({1, 2, 3})\n",
    "print(s)\n",
    "print(type(s))\n",
    "# dict ---> str ✓\n",
    "s = str({'name':'alireza', 'age':17})\n",
    "print(s)\n",
    "print(type(s))"
   ]
  },
  {
   "cell_type": "code",
   "execution_count": 24,
   "id": "2fd01255-9777-4c69-8407-f8e447dbdd5b",
   "metadata": {},
   "outputs": [
    {
     "name": "stdout",
     "output_type": "stream",
     "text": [
      "50\n",
      "<class 'int'>\n",
      "50\n",
      "<class 'int'>\n"
     ]
    }
   ],
   "source": [
    "# int()\n",
    "# str number ---> int ✓\n",
    "i = int('50')\n",
    "print(i)\n",
    "print(type(i))\n",
    "# float ---> int ✓\n",
    "i = int(50.5)\n",
    "print(i)\n",
    "print(type(i))"
   ]
  },
  {
   "cell_type": "code",
   "execution_count": 25,
   "id": "f9e52dde-6efc-4ab1-ac3f-d082563224f7",
   "metadata": {},
   "outputs": [
    {
     "name": "stdout",
     "output_type": "stream",
     "text": [
      "50.5\n",
      "<class 'float'>\n",
      "50.0\n",
      "<class 'float'>\n"
     ]
    }
   ],
   "source": [
    "# float()\n",
    "# str number ---> float ✓\n",
    "f = float('50.5')\n",
    "print(f)\n",
    "print(type(f))\n",
    "# int ---> float ✓\n",
    "f = float(50)\n",
    "print(f)\n",
    "print(type(f))"
   ]
  },
  {
   "cell_type": "code",
   "execution_count": 34,
   "id": "fb0e67a7-7b88-4762-bcfd-135a5168c990",
   "metadata": {},
   "outputs": [
    {
     "name": "stdout",
     "output_type": "stream",
     "text": [
      "['1', '2', '3', 'a', 'l', 'i', 'r', 'e', 'z', 'a']\n",
      "<class 'list'>\n",
      "[1, 2, 3, 4]\n",
      "<class 'list'>\n",
      "[1, 2, 3, 4]\n",
      "<class 'list'>\n",
      "['name', 'age']\n",
      "<class 'list'>\n"
     ]
    }
   ],
   "source": [
    "# list()\n",
    "# str ---> list ✓\n",
    "l = list('123alireza')\n",
    "print(l)\n",
    "print(type(l))\n",
    "# tuple ---> list ✓\n",
    "l = list((1, 2, 3, 4))\n",
    "print(l)\n",
    "print(type(l))\n",
    "# set ---> list ✓\n",
    "l = list({1, 2, 3, 4, 4, 4})\n",
    "print(l)\n",
    "print(type(l))\n",
    "# dict key ---> list ✓\n",
    "l = list({'name':'alireza', 'age':17})\n",
    "print(l)\n",
    "print(type(l))"
   ]
  },
  {
   "cell_type": "code",
   "execution_count": 41,
   "id": "30fff5e3-cb3c-4ced-a2a0-255d87965237",
   "metadata": {},
   "outputs": [
    {
     "name": "stdout",
     "output_type": "stream",
     "text": [
      "('1', '2', '3', 'a', 'l', 'i', 'r', 'e', 'z', 'a')\n",
      "<class 'tuple'>\n",
      "(1, 2, 3, 4)\n",
      "<class 'tuple'>\n",
      "(1, 2, 3, 4)\n",
      "<class 'tuple'>\n",
      "('name', 'age')\n",
      "<class 'tuple'>\n"
     ]
    }
   ],
   "source": [
    "# typle()\n",
    "# str ---> tuple ✓\n",
    "t = tuple('123alireza')\n",
    "print(t)\n",
    "print(type(t))\n",
    "# list ---> tuple ✓\n",
    "t = tuple([1, 2, 3, 4])\n",
    "print(t)\n",
    "print(type(t))\n",
    "# set ---> tuple ✓\n",
    "t = tuple({1, 2, 3, 4, 4, 4})\n",
    "print(t)\n",
    "print(type(t))\n",
    "# dict key ---> tuple ✓\n",
    "t = tuple({'name':'alireza', 'age':17})\n",
    "print(t)\n",
    "print(type(t))"
   ]
  },
  {
   "cell_type": "code",
   "execution_count": 42,
   "id": "dd636cd1-4a0b-451b-9889-dca80d590006",
   "metadata": {},
   "outputs": [
    {
     "name": "stdout",
     "output_type": "stream",
     "text": [
      "{'r', 'z', '3', 'l', 'a', 'e', '2', 'i', '1'}\n",
      "<class 'set'>\n",
      "{1, 2, 3, 4}\n",
      "<class 'set'>\n",
      "{1, 2, 3, 4}\n",
      "<class 'set'>\n",
      "{'name', 'age'}\n",
      "<class 'set'>\n"
     ]
    }
   ],
   "source": [
    "# set()\n",
    "# str ---> set ✓\n",
    "s = set('123alireza')\n",
    "print(s)\n",
    "print(type(s))\n",
    "# list ---> set ✓\n",
    "s = set([1, 2, 3, 4])\n",
    "print(s)\n",
    "print(type(s))\n",
    "# tuple ---> set ✓\n",
    "s = set((1, 2, 3, 4, 4, 4))\n",
    "print(s)\n",
    "print(type(s))\n",
    "# dict key ---> set ✓\n",
    "s = set({'name':'alireza', 'age':17})\n",
    "print(s)\n",
    "print(type(s))"
   ]
  },
  {
   "cell_type": "code",
   "execution_count": 44,
   "id": "867eeb58-093e-482e-a001-ad1cebd2cdd2",
   "metadata": {},
   "outputs": [
    {
     "name": "stdout",
     "output_type": "stream",
     "text": [
      "{'name': 'allireza', 'age': 16}\n",
      "<class 'dict'>\n",
      "{'name': 'allireza', 'age': 16}\n",
      "<class 'dict'>\n",
      "{'age': 16, 'name': 'allireza'}\n",
      "<class 'dict'>\n"
     ]
    }
   ],
   "source": [
    "# dict()\n",
    "# list ---> dict ✓\n",
    "d = dict([('name','allireza'), ('age',16)])\n",
    "print(d)\n",
    "print(type(d))\n",
    "# tuple ---> dict ✓\n",
    "d = dict((('name','allireza'), ('age',16)))\n",
    "print(d)\n",
    "print(type(d))\n",
    "# set ---> dict ✓\n",
    "d = dict({('name','allireza'), ('age',16)})\n",
    "print(d)\n",
    "print(type(d))"
   ]
  },
  {
   "cell_type": "code",
   "execution_count": 3,
   "id": "9c634496",
   "metadata": {},
   "outputs": [
    {
     "name": "stdout",
     "output_type": "stream",
     "text": [
      "[1, 2, 1, 2]\n",
      "12\n"
     ]
    }
   ],
   "source": [
    "a = 10\n",
    "b = 3\n",
    "\n",
    "print(a + b)   \n",
    "print(a - b)   \n",
    "print(a * b)   \n",
    "print(a / b)    \n",
    "print(a // b)   \n",
    "print(a % b)    \n",
    "print(a ** b)   \n",
    "\n"
   ]
  },
  {
   "cell_type": "code",
   "execution_count": null,
   "id": "068e6841",
   "metadata": {},
   "outputs": [],
   "source": [
    "s1 = \"Hello\"\n",
    "s2 = \"World\"\n",
    "\n",
    "print(s1 + \" \" + s2)  \n",
    "print(s1 * 3)  \n",
    "# print(s1 - s2)  # ❌ ارور! منها در رشته‌ها مجاز نیست\n",
    "# print(s1 / 2)  # ❌ ارور! تقسیم در رشته‌ها مجاز نیست\n"
   ]
  },
  {
   "cell_type": "code",
   "execution_count": null,
   "id": "017fa983",
   "metadata": {},
   "outputs": [],
   "source": [
    "l1 = [1, 2, 3]\n",
    "l2 = [4, 5, 6]\n",
    "\n",
    "print(l1 + l2)  \n",
    "print(l1 * 2)  \n",
    "# print(l1 - l2)  # ❌ ارور! منها روی لیست‌ها مجاز نیست\n",
    "# print(l1 / 2)  # ❌ ارور! تقسیم روی لیست‌ها مجاز نیست\n"
   ]
  },
  {
   "cell_type": "code",
   "execution_count": null,
   "id": "dec72e68",
   "metadata": {},
   "outputs": [],
   "source": [
    "t1 = (1, 2, 3)\n",
    "t2 = (4, 5, 6)\n",
    "\n",
    "print(t1 + t2)  \n",
    "print(t1 * 2)  \n",
    "# print(t1 - t2)  # ❌ ارور!\n",
    "# print(t1 / 2)  # ❌ ارور!\n"
   ]
  },
  {
   "cell_type": "code",
   "execution_count": null,
   "id": "3c2836ad",
   "metadata": {},
   "outputs": [],
   "source": [
    "s1 = {1, 2, 3}\n",
    "s2 = {3, 4, 5}\n",
    "\n",
    "print(s1 | s2)  # اجتماع: {1, 2, 3, 4, 5}\n",
    "print(s1 & s2)  # اشتراک: {3}\n",
    "print(s1 - s2)  # تفاوت: {1, 2}\n",
    "print(s1 ^ s2)  # تفاضل متقارن: {1, 2, 4, 5}\n",
    "# print(s1 + s2)  # ❌ ارور!\n",
    "# print(s1 * 2)  # ❌ ارور!\n"
   ]
  },
  {
   "cell_type": "code",
   "execution_count": null,
   "id": "32272914",
   "metadata": {},
   "outputs": [],
   "source": [
    "d1 = {\"a\": 1, \"b\": 2}\n",
    "d2 = {\"c\": 3, \"d\": 4}\n",
    "\n",
    "d1.update(d2)\n",
    "print(d1)  # {'a': 1, 'b': 2, 'c': 3, 'd': 4}\n",
    "# print(d1 + d2)  # ❌ ارور!\n"
   ]
  },
  {
   "cell_type": "code",
   "execution_count": null,
   "id": "89a50419",
   "metadata": {},
   "outputs": [],
   "source": [
    "num = 10\n",
    "text = \"Apples\"\n",
    "\n",
    "# print(num + text)  # ❌ ارور! عدد و رشته قابل جمع شدن نیستند\n",
    "\n",
    "print(str(num) + \" \" + text)  \n",
    "\n",
    "print(int(\"100\") + 50)  \n",
    "print(float(\"3.14\") * 2)  \n"
   ]
  },
  {
   "cell_type": "code",
   "execution_count": null,
   "id": "633ab071",
   "metadata": {},
   "outputs": [],
   "source": [
    "list1 = [1, 2, 3]\n",
    "num = 5\n",
    "\n",
    "# print(list1 + num)  # ❌ ارور!\n",
    "print(list1 + [num])  \n"
   ]
  },
  {
   "cell_type": "code",
   "execution_count": null,
   "id": "08395286",
   "metadata": {},
   "outputs": [],
   "source": [
    "\"\"\"\n",
    "+----------------+------------+------------+------------+------------+\n",
    "|   Data Type    |     +      |     -      |     *      |     /      |\n",
    "+----------------+------------+------------+------------+------------+\n",
    "| int, float     |     ✅     |     ✅     |     ✅     |     ✅     |\n",
    "| str (string)   | ✅ (concat)|     ❌     | ✅ (repeat)|     ❌     |\n",
    "| list           | ✅ (concat)|     ❌     | ✅ (repeat)|     ❌     |\n",
    "| tuple          | ✅ (concat)|     ❌     | ✅ (repeat)|     ❌     |\n",
    "| set            |     ❌     |     ❌     |     ❌     |     ❌     |\n",
    "| dict           |     ❌     |     ❌     |     ❌     |     ❌     |\n",
    "+----------------+------------+------------+------------+------------+\n",
    "\n",
    "\"\"\"\n"
   ]
  }
 ],
 "metadata": {
  "kernelspec": {
   "display_name": "Python 3",
   "language": "python",
   "name": "python3"
  },
  "language_info": {
   "codemirror_mode": {
    "name": "ipython",
    "version": 3
   },
   "file_extension": ".py",
   "mimetype": "text/x-python",
   "name": "python",
   "nbconvert_exporter": "python",
   "pygments_lexer": "ipython3",
   "version": "3.13.1"
  }
 },
 "nbformat": 4,
 "nbformat_minor": 5
}
