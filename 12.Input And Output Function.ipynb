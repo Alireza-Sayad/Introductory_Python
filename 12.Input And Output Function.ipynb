{
 "cells": [
  {
   "cell_type": "markdown",
   "id": "1c2baf97-2b51-493d-b94f-bb81f6f3b8ca",
   "metadata": {},
   "source": [
    "تابع ورودی و خروجی:"
   ]
  },
  {
   "cell_type": "code",
   "execution_count": null,
   "id": "d8abd9b4-a749-4854-ac31-01d8e7d9fc32",
   "metadata": {},
   "outputs": [],
   "source": [
    "# print() ---> output function\n",
    "print(1, 2, 3, 4, 5)\n",
    "print('Alireza')\n",
    "print('---------------')\n",
    "# end = default('\\n')\n",
    "print(1, 2, 3, 4, 5, end=' ')\n",
    "print('Alireza')\n",
    "print('---------------')\n",
    "print(1, 2, 3, 4, 5, end='\\t')\n",
    "print('Alireza')\n",
    "print('---------------')\n",
    "print(1, 2, 3, 4, 5, end='***')\n",
    "print('Alireza')\n",
    "print('---------------')\n",
    "# sep = default(' ')\n",
    "print(1, 2, 3, 4, 5, sep=' ')\n",
    "print('Alireza')\n",
    "print('---------------')\n",
    "print(1, 2, 3, 4, 5, sep='*')\n",
    "print('Alireza')\n",
    "print('---------------')\n",
    "print(1, 2, 3, 4, 5, sep='\\n')\n",
    "print('Alireza')\n",
    "print('---------------')"
   ]
  },
  {
   "cell_type": "code",
   "execution_count": 10,
   "id": "90824686-b863-4f80-ab57-d0a90b26c0e3",
   "metadata": {},
   "outputs": [
    {
     "name": "stdout",
     "output_type": "stream",
     "text": [
      " a\n"
     ]
    },
    {
     "name": "stdout",
     "output_type": "stream",
     "text": [
      "welcome a\n",
      "<class 'str'>\n",
      "---------------\n"
     ]
    },
    {
     "name": "stdout",
     "output_type": "stream",
     "text": [
      "Enter Your Name:  a\n"
     ]
    },
    {
     "name": "stdout",
     "output_type": "stream",
     "text": [
      "welcome a\n",
      "<class 'str'>\n",
      "---------------\n"
     ]
    },
    {
     "name": "stdout",
     "output_type": "stream",
     "text": [
      "Enter Your Age:  a\n"
     ]
    },
    {
     "name": "stdout",
     "output_type": "stream",
     "text": [
      "welcome a\n",
      "<class 'str'>\n",
      "---------------\n"
     ]
    },
    {
     "name": "stdout",
     "output_type": "stream",
     "text": [
      "Enter Your Age:  16\n"
     ]
    },
    {
     "name": "stdout",
     "output_type": "stream",
     "text": [
      "welcome 16\n",
      "<class 'int'>\n"
     ]
    }
   ],
   "source": [
    "# input() ---> input function\n",
    "# default type ---> str\n",
    "name = input()\n",
    "print('welcome', name)\n",
    "print(type(name))\n",
    "print('---------------')\n",
    "name = input('Enter Your Name: ')\n",
    "print('welcome', name)\n",
    "print(type(name))\n",
    "print('---------------')\n",
    "age = input('Enter Your Age: ')\n",
    "print('welcome', age)\n",
    "print(type(age))\n",
    "print('---------------')\n",
    "age = int(input('Enter Your Age: '))\n",
    "print('welcome', age)\n",
    "print(type(age))"
   ]
  },
  {
   "cell_type": "markdown",
   "id": "f1764bfc-2be1-4c57-89f8-326403f83cce",
   "metadata": {},
   "source": [
    "سن قانونی"
   ]
  },
  {
   "cell_type": "code",
   "execution_count": 6,
   "id": "8964893f-a9bd-4e42-a90e-6431211ec8ea",
   "metadata": {},
   "outputs": [
    {
     "name": "stdout",
     "output_type": "stream",
     "text": [
      "Enter Your Age:  16\n"
     ]
    },
    {
     "ename": "TypeError",
     "evalue": "'>' not supported between instances of 'str' and 'int'",
     "output_type": "error",
     "traceback": [
      "\u001b[1;31m---------------------------------------------------------------------------\u001b[0m",
      "\u001b[1;31mTypeError\u001b[0m                                 Traceback (most recent call last)",
      "Cell \u001b[1;32mIn[6], line 2\u001b[0m\n\u001b[0;32m      1\u001b[0m age \u001b[38;5;241m=\u001b[39m \u001b[38;5;28minput\u001b[39m(\u001b[38;5;124m'\u001b[39m\u001b[38;5;124mEnter Your Age: \u001b[39m\u001b[38;5;124m'\u001b[39m)\n\u001b[1;32m----> 2\u001b[0m \u001b[38;5;28;01mif\u001b[39;00m \u001b[43mage\u001b[49m\u001b[38;5;241;43m>\u001b[39;49m\u001b[38;5;241;43m18\u001b[39;49m:\n\u001b[0;32m      3\u001b[0m     \u001b[38;5;28mprint\u001b[39m(\u001b[38;5;124m'\u001b[39m\u001b[38;5;124mOk\u001b[39m\u001b[38;5;124m'\u001b[39m)\n\u001b[0;32m      4\u001b[0m \u001b[38;5;28;01melse\u001b[39;00m:\n",
      "\u001b[1;31mTypeError\u001b[0m: '>' not supported between instances of 'str' and 'int'"
     ]
    }
   ],
   "source": [
    "age = input('Enter Your Age: ')\n",
    "if age>18:\n",
    "    print('Ok')\n",
    "else:\n",
    "    print('No')"
   ]
  },
  {
   "cell_type": "code",
   "execution_count": 8,
   "id": "c70a4d32-6439-4fd6-ae3e-0b845d85bf0d",
   "metadata": {},
   "outputs": [
    {
     "name": "stdout",
     "output_type": "stream",
     "text": [
      "Enter Your Age:  16\n"
     ]
    },
    {
     "name": "stdout",
     "output_type": "stream",
     "text": [
      "No\n"
     ]
    }
   ],
   "source": [
    "age = int(input('Enter Your Age: '))\n",
    "if age>18:\n",
    "    print('Ok')\n",
    "else:\n",
    "    print('No')"
   ]
  }
 ],
 "metadata": {
  "kernelspec": {
   "display_name": "Python 3 (ipykernel)",
   "language": "python",
   "name": "python3"
  },
  "language_info": {
   "codemirror_mode": {
    "name": "ipython",
    "version": 3
   },
   "file_extension": ".py",
   "mimetype": "text/x-python",
   "name": "python",
   "nbconvert_exporter": "python",
   "pygments_lexer": "ipython3",
   "version": "3.12.6"
  }
 },
 "nbformat": 4,
 "nbformat_minor": 5
}
