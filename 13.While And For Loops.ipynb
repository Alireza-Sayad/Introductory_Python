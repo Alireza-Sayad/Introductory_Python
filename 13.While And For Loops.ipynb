{
 "cells": [
  {
   "cell_type": "markdown",
   "metadata": {},
   "source": [
    "حلقه: برای کارهای تکراری انجام میشوند"
   ]
  },
  {
   "cell_type": "code",
   "execution_count": null,
   "metadata": {},
   "outputs": [],
   "source": [
    "# range(start, end, step)\n",
    "print(list(range(0, 10, 2)))\n",
    "print(list(range(0, 10)))\n",
    "print(list(range(7)))"
   ]
  },
  {
   "cell_type": "markdown",
   "metadata": {},
   "source": [
    "for loop:"
   ]
  },
  {
   "cell_type": "markdown",
   "metadata": {},
   "source": [
    "syntax:"
   ]
  },
  {
   "cell_type": "code",
   "execution_count": null,
   "metadata": {},
   "outputs": [],
   "source": [
    "# for variable in ...:\n",
    "#     ..."
   ]
  },
  {
   "cell_type": "markdown",
   "metadata": {},
   "source": [
    "مثال:"
   ]
  },
  {
   "cell_type": "code",
   "execution_count": null,
   "metadata": {},
   "outputs": [],
   "source": [
    "for i in range(5, 10):\n",
    "    print(i)"
   ]
  },
  {
   "cell_type": "code",
   "execution_count": null,
   "metadata": {},
   "outputs": [],
   "source": [
    "for i in range(10):\n",
    "    print(i, end=' ')"
   ]
  },
  {
   "cell_type": "code",
   "execution_count": null,
   "metadata": {},
   "outputs": [],
   "source": [
    "for i in range(0, 10, 2):\n",
    "    print('*', end=' ')"
   ]
  },
  {
   "cell_type": "code",
   "execution_count": null,
   "metadata": {},
   "outputs": [],
   "source": [
    "for i in range(0, 1):\n",
    "    print(i)"
   ]
  },
  {
   "cell_type": "code",
   "execution_count": null,
   "metadata": {},
   "outputs": [],
   "source": [
    "for i in range(0*10, 1*10):\n",
    "    print(i/10)"
   ]
  },
  {
   "cell_type": "code",
   "execution_count": null,
   "metadata": {},
   "outputs": [],
   "source": [
    "for i in 'alireza':\n",
    "    print(i)"
   ]
  },
  {
   "cell_type": "code",
   "execution_count": null,
   "metadata": {},
   "outputs": [],
   "source": [
    "l = ['ali', 25, 98, True, (5,6), 9.5, 'reza']\n",
    "for i in l:\n",
    "    print(i)\n",
    "print('---------')\n",
    "print(l[-1])\n",
    "for i in l[-1]:\n",
    "    print(i)\n",
    "print('---------')\n",
    "print(l[4])\n",
    "for i in l[4]:\n",
    "    print(i)"
   ]
  },
  {
   "cell_type": "markdown",
   "metadata": {},
   "source": [
    "while loop:"
   ]
  },
  {
   "cell_type": "markdown",
   "metadata": {},
   "source": [
    "syntax:"
   ]
  },
  {
   "cell_type": "code",
   "execution_count": null,
   "metadata": {},
   "outputs": [],
   "source": [
    "# variable = ...\n",
    "# while condition:\n",
    "#     ....\n",
    "#     variable += ..."
   ]
  },
  {
   "cell_type": "code",
   "execution_count": null,
   "metadata": {},
   "outputs": [],
   "source": [
    "i = 0\n",
    "while i<10:\n",
    "    print(i)\n",
    "    i += 1"
   ]
  },
  {
   "cell_type": "code",
   "execution_count": null,
   "metadata": {},
   "outputs": [],
   "source": [
    "i = 0\n",
    "while i<10:\n",
    "    print(i)\n",
    "    i += 2"
   ]
  },
  {
   "cell_type": "code",
   "execution_count": null,
   "metadata": {},
   "outputs": [],
   "source": [
    "l = ['ali', 25, 98, True, (5,6), 9.5, 'reza']\n",
    "i = 0\n",
    "while i<len(l):\n",
    "    print(l[i])\n",
    "    i += 1"
   ]
  },
  {
   "cell_type": "code",
   "execution_count": null,
   "metadata": {},
   "outputs": [],
   "source": [
    "name = 'Alireza'\n",
    "i = 0\n",
    "while i<len(name):\n",
    "    print(name[i], end='')\n",
    "    i += 1\n",
    "print()\n",
    "print('---------')\n",
    "name = 'Alireza'\n",
    "i = 0\n",
    "while i<len(name):\n",
    "    i += 1\n",
    "    print(name[i], end='')"
   ]
  },
  {
   "cell_type": "code",
   "execution_count": null,
   "metadata": {},
   "outputs": [],
   "source": [
    "# for i in range(10):     | i = 0    \n",
    "#     print(i)            | while i<10:\n",
    "#                         |     print(i) \n",
    "#                         |     i += 1"
   ]
  },
  {
   "cell_type": "code",
   "execution_count": 2,
   "metadata": {},
   "outputs": [
    {
     "name": "stdout",
     "output_type": "stream",
     "text": [
      "10\n",
      "10\n"
     ]
    }
   ],
   "source": [
    "x = 4\n",
    "total = 0\n",
    "for i in range(1, x+1):\n",
    "    total += i\n",
    "# total = 4+3+2+1\n",
    "print(total)\n",
    "\n",
    "i = 0\n",
    "total = 0\n",
    "while i<=x:\n",
    "    total += i\n",
    "    i += 1\n",
    "# total = 4+3+2+1\n",
    "print(total)"
   ]
  },
  {
   "cell_type": "code",
   "execution_count": 5,
   "metadata": {},
   "outputs": [
    {
     "name": "stdout",
     "output_type": "stream",
     "text": [
      "24\n",
      "24\n"
     ]
    }
   ],
   "source": [
    "x = 4\n",
    "total = 1\n",
    "for i in range(1, x+1):\n",
    "    total *= i\n",
    "# total = 4*3*2*1\n",
    "print(total)\n",
    "\n",
    "i = 1\n",
    "total = 1\n",
    "while i<=x:\n",
    "    total *= i\n",
    "    i += 1\n",
    "# total = 4*3*2*1\n",
    "print(total)"
   ]
  }
 ],
 "metadata": {
  "kernelspec": {
   "display_name": "Python 3",
   "language": "python",
   "name": "python3"
  },
  "language_info": {
   "codemirror_mode": {
    "name": "ipython",
    "version": 3
   },
   "file_extension": ".py",
   "mimetype": "text/x-python",
   "name": "python",
   "nbconvert_exporter": "python",
   "pygments_lexer": "ipython3",
   "version": "3.13.1"
  }
 },
 "nbformat": 4,
 "nbformat_minor": 2
}
