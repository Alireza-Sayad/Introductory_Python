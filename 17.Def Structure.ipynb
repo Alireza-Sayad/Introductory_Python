{
 "cells": [
  {
   "cell_type": "markdown",
   "metadata": {},
   "source": [
    "تابع"
   ]
  },
  {
   "cell_type": "markdown",
   "metadata": {},
   "source": [
    "syntax:"
   ]
  },
  {
   "cell_type": "code",
   "execution_count": 9,
   "metadata": {},
   "outputs": [
    {
     "ename": "SyntaxError",
     "evalue": "expected argument value expression (2012198423.py, line 4)",
     "output_type": "error",
     "traceback": [
      "\u001b[1;36m  Cell \u001b[1;32mIn[9], line 4\u001b[1;36m\u001b[0m\n\u001b[1;33m    name_def(parameter=) # call\u001b[0m\n\u001b[1;37m             ^\u001b[0m\n\u001b[1;31mSyntaxError\u001b[0m\u001b[1;31m:\u001b[0m expected argument value expression\n"
     ]
    }
   ],
   "source": [
    "def name_def(parameter):\n",
    "    ...\n",
    "\n",
    "name_def(parameter) # call"
   ]
  },
  {
   "cell_type": "code",
   "execution_count": 10,
   "metadata": {},
   "outputs": [
    {
     "name": "stdout",
     "output_type": "stream",
     "text": [
      "4\n",
      "None\n",
      "39\n"
     ]
    }
   ],
   "source": [
    "def foo(a, b):\n",
    "    print(a+b)\n",
    "\n",
    "foo(1, 3)\n",
    "foo(30, 9)"
   ]
  },
  {
   "cell_type": "code",
   "execution_count": 11,
   "metadata": {},
   "outputs": [
    {
     "name": "stdout",
     "output_type": "stream",
     "text": [
      "4\n"
     ]
    },
    {
     "ename": "TypeError",
     "evalue": "unsupported operand type(s) for +: 'NoneType' and 'int'",
     "output_type": "error",
     "traceback": [
      "\u001b[1;31m---------------------------------------------------------------------------\u001b[0m",
      "\u001b[1;31mTypeError\u001b[0m                                 Traceback (most recent call last)",
      "Cell \u001b[1;32mIn[11], line 4\u001b[0m\n\u001b[0;32m      1\u001b[0m \u001b[38;5;28;01mdef\u001b[39;00m \u001b[38;5;21mfoo\u001b[39m(a, b):\n\u001b[0;32m      2\u001b[0m     \u001b[38;5;28mprint\u001b[39m(a\u001b[38;5;241m+\u001b[39mb)\n\u001b[1;32m----> 4\u001b[0m \u001b[43mfoo\u001b[49m\u001b[43m(\u001b[49m\u001b[38;5;241;43m1\u001b[39;49m\u001b[43m,\u001b[49m\u001b[43m \u001b[49m\u001b[38;5;241;43m3\u001b[39;49m\u001b[43m)\u001b[49m\u001b[38;5;241;43m+\u001b[39;49m\u001b[38;5;241;43m5\u001b[39;49m\n\u001b[0;32m      5\u001b[0m foo(\u001b[38;5;241m30\u001b[39m, \u001b[38;5;241m9\u001b[39m)\u001b[38;5;241m+\u001b[39m\u001b[38;5;241m7\u001b[39m\n",
      "\u001b[1;31mTypeError\u001b[0m: unsupported operand type(s) for +: 'NoneType' and 'int'"
     ]
    }
   ],
   "source": [
    "def foo(a, b):\n",
    "    print(a+b)\n",
    "\n",
    "foo(1, 3)+5\n",
    "foo(30, 9)+7"
   ]
  },
  {
   "cell_type": "markdown",
   "metadata": {},
   "source": [
    "return:"
   ]
  },
  {
   "cell_type": "markdown",
   "metadata": {},
   "source": [
    "با نوشتن دستور ریترن در تابع مفسر مقدار مورد نظر را به خطی مه تابع صدا زده شده میبرد و از تابع بیرون می آید"
   ]
  },
  {
   "cell_type": "code",
   "execution_count": 12,
   "metadata": {},
   "outputs": [
    {
     "name": "stdout",
     "output_type": "stream",
     "text": [
      "9\n",
      "46\n"
     ]
    }
   ],
   "source": [
    "def foo(a, b):\n",
    "    return a+b\n",
    "    print('ali')\n",
    "    print(17)\n",
    "    \n",
    "print(foo(1, 3)+5)\n",
    "print(foo(30, 9)+7)"
   ]
  },
  {
   "cell_type": "code",
   "execution_count": 8,
   "metadata": {},
   "outputs": [
    {
     "name": "stdout",
     "output_type": "stream",
     "text": [
      "ali\n",
      "17\n",
      "4\n",
      "ali\n",
      "17\n",
      "39\n"
     ]
    }
   ],
   "source": [
    "def foo(a, b):\n",
    "    print('ali')\n",
    "    print(17)\n",
    "    return a+b\n",
    "    \n",
    "print(foo(1, 3))\n",
    "print(foo(30, 9))"
   ]
  },
  {
   "cell_type": "code",
   "execution_count": 18,
   "metadata": {},
   "outputs": [
    {
     "name": "stdout",
     "output_type": "stream",
     "text": [
      "24\n",
      "6\n",
      "720\n"
     ]
    }
   ],
   "source": [
    "def foo(x):\n",
    "    total = 1\n",
    "    for i in range(1, x+1):\n",
    "        total *= i\n",
    "    return total\n",
    "\n",
    "print(foo(4))\n",
    "print(foo(3))\n",
    "print(foo(6))"
   ]
  },
  {
   "cell_type": "code",
   "execution_count": 21,
   "metadata": {},
   "outputs": [
    {
     "name": "stdout",
     "output_type": "stream",
     "text": [
      "{'a': 3, 'd': 1, 'e': 1, 'i': 1, 'r': 1, 's': 1, 'y': 1, 'z': 1, 'A': 1}\n"
     ]
    }
   ],
   "source": [
    "def find_in_string(object):\n",
    "    words = ['a', 'b', 'c', 'd', 'e', 'f', 'g', 'h', 'i', 'j', 'k', 'l', 'm', 'n', 'o', 'p', 'q', 'r', 's', 't', 'u', 'w', 'x', 'y', 'z']\n",
    "    dict0 = {}\n",
    "    for i in words:\n",
    "        if i in object:\n",
    "            b = object.count(i)\n",
    "            dict1 = dict(eval(f'[(\"{i}\",{int(b)})]'))\n",
    "            dict0.update(dict1)\n",
    "        \n",
    "    for j in words:\n",
    "        j = j.upper()\n",
    "        if j in object:\n",
    "            c = object.count(j)\n",
    "            dict2 = dict(eval(f'[(\"{j}\",{int(c)})]'))\n",
    "            dict0.update(dict2)\n",
    "    print(dict0)\n",
    "\n",
    "\n",
    "find_in_string('Aireza sayad')"
   ]
  },
  {
   "cell_type": "code",
   "execution_count": 22,
   "metadata": {},
   "outputs": [
    {
     "name": "stdout",
     "output_type": "stream",
     "text": [
      "2\n"
     ]
    }
   ],
   "source": [
    "def foo(a):\n",
    "    for i in a:\n",
    "        b = a.count(i)\n",
    "        if b==1:\n",
    "            return i\n",
    "        else:\n",
    "            a.sort(key=lambda item: b)\n",
    "            return a[-1]    \n",
    "\n",
    "a = [1,2,1,1,2,2,2,3,3,2]\n",
    "print(foo(a))"
   ]
  },
  {
   "cell_type": "markdown",
   "metadata": {},
   "source": [
    "تابع بازگشتی:"
   ]
  },
  {
   "cell_type": "markdown",
   "metadata": {},
   "source": [
    "تابعی که خودش را در خودش صدا میزدند تا به جواب برسد\n",
    "\n",
    "\n",
    "4! = 4*3!\n",
    "\n",
    "3! = 3*2!\n",
    "\n",
    "2! = 2*1!\n",
    "\n",
    "1! = 1\n",
    "\n",
    "2! = 2*1 = 2\n",
    "\n",
    "3! = 3*2 = 6\n",
    "\n",
    "4! = 4*4 = 24"
   ]
  },
  {
   "cell_type": "code",
   "execution_count": 26,
   "metadata": {},
   "outputs": [
    {
     "name": "stdout",
     "output_type": "stream",
     "text": [
      "24\n"
     ]
    }
   ],
   "source": [
    "def foo(a):\n",
    "    if a==1:\n",
    "        return 1\n",
    "    else:\n",
    "        return a*foo(a-1)\n",
    "\n",
    "print(foo(4))"
   ]
  },
  {
   "cell_type": "code",
   "execution_count": 32,
   "metadata": {},
   "outputs": [
    {
     "name": "stdout",
     "output_type": "stream",
     "text": [
      "2\n",
      "3\n",
      "5\n",
      "8\n",
      "13\n"
     ]
    }
   ],
   "source": [
    "def foo(a):\n",
    "    if a == 1 or a == 2:\n",
    "        return 1\n",
    "    else:\n",
    "        return foo(a-1)+foo(a-2)\n",
    "    \n",
    "print(foo(3))\n",
    "print(foo(4))\n",
    "print(foo(5))\n",
    "print(foo(6))\n",
    "print(foo(7))"
   ]
  },
  {
   "cell_type": "code",
   "execution_count": 33,
   "metadata": {},
   "outputs": [
    {
     "name": "stdout",
     "output_type": "stream",
     "text": [
      "5\n"
     ]
    },
    {
     "ename": "NameError",
     "evalue": "name 'a' is not defined",
     "output_type": "error",
     "traceback": [
      "\u001b[1;31m---------------------------------------------------------------------------\u001b[0m",
      "\u001b[1;31mNameError\u001b[0m                                 Traceback (most recent call last)",
      "Cell \u001b[1;32mIn[33], line 4\u001b[0m\n\u001b[0;32m      2\u001b[0m \u001b[38;5;28mprint\u001b[39m(a)\n\u001b[0;32m      3\u001b[0m \u001b[38;5;28;01mdel\u001b[39;00m a\n\u001b[1;32m----> 4\u001b[0m \u001b[38;5;28mprint\u001b[39m(\u001b[43ma\u001b[49m)\n",
      "\u001b[1;31mNameError\u001b[0m: name 'a' is not defined"
     ]
    }
   ],
   "source": [
    "a = 5\n",
    "print(a)\n",
    "del a\n",
    "print(a)"
   ]
  },
  {
   "cell_type": "markdown",
   "metadata": {},
   "source": [
    "چند تا نکته ریز"
   ]
  },
  {
   "cell_type": "code",
   "execution_count": 34,
   "metadata": {},
   "outputs": [
    {
     "name": "stdout",
     "output_type": "stream",
     "text": [
      "reza\n",
      "ali\n"
     ]
    }
   ],
   "source": [
    "a = 'ali'\n",
    "b = 'reza'\n",
    "a, b = b, a\n",
    "print(a)\n",
    "print(b)"
   ]
  },
  {
   "cell_type": "code",
   "execution_count": 38,
   "metadata": {},
   "outputs": [
    {
     "name": "stdout",
     "output_type": "stream",
     "text": [
      "alireza  50\n"
     ]
    }
   ],
   "source": [
    "jj = print\n",
    "jj('alireza', 50, sep='  ')"
   ]
  },
  {
   "cell_type": "code",
   "execution_count": 40,
   "metadata": {},
   "outputs": [
    {
     "name": "stdout",
     "output_type": "stream",
     "text": [
      "5\n",
      "7\n"
     ]
    }
   ],
   "source": [
    "print(a := 5)\n",
    "print(a+2)"
   ]
  }
 ],
 "metadata": {
  "kernelspec": {
   "display_name": "Python 3",
   "language": "python",
   "name": "python3"
  },
  "language_info": {
   "codemirror_mode": {
    "name": "ipython",
    "version": 3
   },
   "file_extension": ".py",
   "mimetype": "text/x-python",
   "name": "python",
   "nbconvert_exporter": "python",
   "pygments_lexer": "ipython3",
   "version": "3.13.1"
  }
 },
 "nbformat": 4,
 "nbformat_minor": 2
}
