{
 "cells": [
  {
   "cell_type": "code",
   "execution_count": null,
   "metadata": {},
   "outputs": [],
   "source": [
    "# خوانایی کم\n",
    "name = input('Name: ')\n",
    "print('Welcome', name)"
   ]
  },
  {
   "cell_type": "code",
   "execution_count": null,
   "metadata": {},
   "outputs": [],
   "source": [
    "# سرعت بالا احتمال خطا بالا\n",
    "name = input('Name: ')\n",
    "a = 'Welcome %s'\n",
    "print(a%(name)) "
   ]
  },
  {
   "cell_type": "code",
   "execution_count": null,
   "metadata": {},
   "outputs": [],
   "source": [
    "# سرعت پایین احتمال خطا پایین\n",
    "name = input('Name: ')\n",
    "a = 'Welcome {} aaa {}'\n",
    "print(a.format(19, name ))\n",
    "\n",
    "\n",
    "name_ = input('Name: ')\n",
    "a = 'Welcome {name} aaa {}'\n",
    "print(a.format(19, name=name_ ))# اول باید مقادیر بدون کلید نوشته شده باشند"
   ]
  },
  {
   "cell_type": "code",
   "execution_count": 4,
   "metadata": {},
   "outputs": [
    {
     "name": "stdout",
     "output_type": "stream",
     "text": [
      "Welcome l aaa 19\n"
     ]
    }
   ],
   "source": [
    "# سرعت بالا احتمال خطا پایین\n",
    "name = input('Name: ')\n",
    "a = f'Welcome {name} aaa {19}'\n",
    "print(a)"
   ]
  }
 ],
 "metadata": {
  "kernelspec": {
   "display_name": "Python 3",
   "language": "python",
   "name": "python3"
  },
  "language_info": {
   "codemirror_mode": {
    "name": "ipython",
    "version": 3
   },
   "file_extension": ".py",
   "mimetype": "text/x-python",
   "name": "python",
   "nbconvert_exporter": "python",
   "pygments_lexer": "ipython3",
   "version": "3.13.1"
  }
 },
 "nbformat": 4,
 "nbformat_minor": 2
}
