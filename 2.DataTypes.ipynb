{
 "cells": [
  {
   "cell_type": "markdown",
   "id": "89a1a0f1-1ac3-40f6-b6ee-76b49b8142b7",
   "metadata": {},
   "source": [
    "دیتا تایپ ها"
   ]
  },
  {
   "cell_type": "markdown",
   "id": "b608bc58-6032-4cd3-82da-1e117c31739b",
   "metadata": {},
   "source": [
    "ایندکس: جایگاه اشیا در دیتا تایپ ها را نشان میدهد"
   ]
  },
  {
   "cell_type": "code",
   "execution_count": 9,
   "id": "73b746fd-0b20-4c1d-8f7b-a4822733f3f5",
   "metadata": {},
   "outputs": [
    {
     "name": "stdout",
     "output_type": "stream",
     "text": [
      "<class 'int'>\n"
     ]
    }
   ],
   "source": [
    "# integer(اعداد صحیح) ---> int\n",
    "# index ---> False\n",
    "# while ---> False\n",
    "# edit object ---> False\n",
    "# duplicate object ---> True\n",
    "num = 19\n",
    "num1 = 25\n",
    "num2 = int()\n",
    "print(type(num))"
   ]
  },
  {
   "cell_type": "code",
   "execution_count": null,
   "id": "6b6e29d7-5388-4c92-ba2e-92e3b92997d2",
   "metadata": {},
   "outputs": [],
   "source": [
    "# float(اعداد اعشاری) ---> float\n",
    "# index ---> False\n",
    "# while ---> False\n",
    "# edit object ---> False\n",
    "# duplicate object ---> True\n",
    "num = 19.5\n",
    "num1 = 25.00\n",
    "num2 = float()\n",
    "print(type(num))"
   ]
  },
  {
   "cell_type": "code",
   "execution_count": 8,
   "id": "a35326df-7c6e-4bf2-989d-3e0c02a4e787",
   "metadata": {},
   "outputs": [
    {
     "name": "stdout",
     "output_type": "stream",
     "text": [
      "<class 'str'>\n"
     ]
    }
   ],
   "source": [
    "# string(متن) ---> str\n",
    "# index ---> True\n",
    "# while ---> True\n",
    "# edit object ---> False\n",
    "# duplicate object ---> True\n",
    "name1 = 'alireza'\n",
    "name2 = \"alireza\"\n",
    "name3 = \"\"\"alireza\"\"\"\n",
    "name4 = '''alireza'''\n",
    "name5 = str()\n",
    "print(type(name1))"
   ]
  },
  {
   "cell_type": "code",
   "execution_count": 7,
   "id": "abd49227",
   "metadata": {},
   "outputs": [
    {
     "name": "stdout",
     "output_type": "stream",
     "text": [
      "<class 'bool'>\n"
     ]
    }
   ],
   "source": [
    "# bool ---> bool\n",
    "# یک عبارت در ساختار بولین یا درست است یا غلط\n",
    "# '' ---> False\n",
    "# 0 ---> False\n",
    "# 0.0 ---> False\n",
    "# [] ---> False\n",
    "# () ---> False\n",
    "# {} ---> False\n",
    "b1 = 5 > 3\n",
    "b2 = bool()\n",
    "print(type(b1))"
   ]
  },
  {
   "cell_type": "markdown",
   "id": "45a31474-4638-4fe2-a97b-6fa731bdfd19",
   "metadata": {},
   "source": [
    "لیست: برای ذخیره چندین داده بین دو براکت [] استفاده میشود به طوری که اشیا با کاما از هم جدا میشنود"
   ]
  },
  {
   "cell_type": "code",
   "execution_count": 6,
   "id": "5b65d411-438b-4b7b-a8cd-b2baff707b67",
   "metadata": {},
   "outputs": [
    {
     "name": "stdout",
     "output_type": "stream",
     "text": [
      "<class 'list'>\n"
     ]
    }
   ],
   "source": [
    "# list ---> list\n",
    "# index ---> True\n",
    "# while ---> True\n",
    "# edit object ---> True\n",
    "# duplicate object ---> True\n",
    "l1 = [1, 2, 3, 4, 5]\n",
    "l2 = list()\n",
    "print(type(l1))"
   ]
  },
  {
   "cell_type": "markdown",
   "id": "5929773e-62f5-464f-87e8-09026242990a",
   "metadata": {},
   "source": [
    "اسلایسینگ: برای دیتا تایپ هایی که ایندکس میپذرند میباشد و ورودی های آن را در براکت [] میدهیم"
   ]
  },
  {
   "cell_type": "code",
   "execution_count": 3,
   "id": "ad47e5d5-1ee4-4a07-906b-ba5586e14299",
   "metadata": {},
   "outputs": [
    {
     "name": "stdout",
     "output_type": "stream",
     "text": [
      "[1, 2, 3, 4, 5]\n",
      "[1, 2]\n",
      "[1, 3, 5]\n"
     ]
    }
   ],
   "source": [
    "# name variable[start:end:step]\n",
    "l1 = [1, 2, 3, 4, 5]\n",
    "print(l1)\n",
    "print(l1[0:2])# در اسلایسینگ عدد آخر در خروجی چاپ نمیشود\n",
    "print(l1[0:6:2])"
   ]
  },
  {
   "cell_type": "code",
   "execution_count": 5,
   "id": "ebf78dc3-9dc1-47e5-89a3-fbd990f6fe94",
   "metadata": {},
   "outputs": [
    {
     "name": "stdout",
     "output_type": "stream",
     "text": [
      "[5, 4, 3, 2, 1]\n",
      "[1, 2, 3, 4, 5]\n",
      "[1, 2, 3, 4]\n",
      "[5, 4, 3, 2, 1]\n",
      "[1, 3, 5]\n"
     ]
    }
   ],
   "source": [
    "# sliceing forward\n",
    "# i = [0, 1, 2, 3, 4]\n",
    "ls1 = [1, 2, 3, 4, 5]\n",
    "# sliceing backward\n",
    "# i = [-1, -2, -3, -4, -5]\n",
    "ls2 = [ 1 , 2 , 3 , 4 , 5]\n",
    "print(ls1[::-1])\n",
    "print(ls1[0:])\n",
    "print(ls1[0:-1])\n",
    "print(ls1[-1::-1])\n",
    "print(ls1[::2])\n"
   ]
  },
  {
   "cell_type": "markdown",
   "id": "81cb778f",
   "metadata": {},
   "source": [
    "تاپل: برای ذخیره چندین داده بین دو پرانتز () استفاده میشود به طوری که اشیا با کاما از هم جدا میشنود"
   ]
  },
  {
   "cell_type": "code",
   "execution_count": 4,
   "id": "32eaf69e",
   "metadata": {},
   "outputs": [
    {
     "name": "stdout",
     "output_type": "stream",
     "text": [
      "<class 'tuple'>\n"
     ]
    }
   ],
   "source": [
    "# tuple ---> tuple\n",
    "# index ---> True\n",
    "# while ---> True\n",
    "# edit object ---> False\n",
    "# duplicate object ---> True\n",
    "t1 = (1, 2, 3, 4, 5)\n",
    "t2 = tuple()\n",
    "print(type(t1))"
   ]
  },
  {
   "cell_type": "markdown",
   "id": "b3ea7923",
   "metadata": {},
   "source": [
    "ست: برای ذخیره چندین داده بین دو کروشه {} استفاده میشود به طوری که اشیا با کاما از هم جدا میشنود"
   ]
  },
  {
   "cell_type": "code",
   "execution_count": 3,
   "id": "174f8894",
   "metadata": {},
   "outputs": [
    {
     "name": "stdout",
     "output_type": "stream",
     "text": [
      "<class 'set'>\n"
     ]
    }
   ],
   "source": [
    "# set ---> set\n",
    "# index ---> False\n",
    "# while ---> True\n",
    "# edit object ---> False\n",
    "# duplicate object ---> False\n",
    "s1 = {1, 2, 3, 4, 5}\n",
    "s2 = set()\n",
    "print(type(s1))"
   ]
  },
  {
   "cell_type": "markdown",
   "id": "591f9b67",
   "metadata": {},
   "source": [
    "دیکشنری:برای ذخیره یک متغیر و مقدارش بین  دو کروشه {} میباشند به طوری که اشیا با کاما از هم جدا میشنود "
   ]
  },
  {
   "cell_type": "code",
   "execution_count": 2,
   "id": "2934a3e6",
   "metadata": {},
   "outputs": [
    {
     "name": "stdout",
     "output_type": "stream",
     "text": [
      "<class 'dict'>\n"
     ]
    }
   ],
   "source": [
    "# dictionary ---> dict\n",
    "# index ---> False\n",
    "# while ---> True\n",
    "# edit object ---> True\n",
    "# duplicate object ---> False\n",
    "d1 = {'name': 'alireza' , 'age':15}\n",
    "d2 = dict()\n",
    "print(type(d1))"
   ]
  },
  {
   "cell_type": "code",
   "execution_count": 5,
   "id": "dffb5d4a",
   "metadata": {},
   "outputs": [
    {
     "name": "stdout",
     "output_type": "stream",
     "text": [
      "<class 'dict'>\n",
      "<class 'set'>\n"
     ]
    }
   ],
   "source": [
    "# نوع یک آکولاد خالی دیکشنری هست\n",
    "d = {}\n",
    "s = set({})\n",
    "print(type(d))\n",
    "print(type(s))"
   ]
  }
 ],
 "metadata": {
  "kernelspec": {
   "display_name": "Python 3",
   "language": "python",
   "name": "python3"
  },
  "language_info": {
   "codemirror_mode": {
    "name": "ipython",
    "version": 3
   },
   "file_extension": ".py",
   "mimetype": "text/x-python",
   "name": "python",
   "nbconvert_exporter": "python",
   "pygments_lexer": "ipython3",
   "version": "3.13.1"
  }
 },
 "nbformat": 4,
 "nbformat_minor": 5
}
