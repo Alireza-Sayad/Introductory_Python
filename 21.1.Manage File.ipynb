{
 "cells": [
  {
   "cell_type": "markdown",
   "metadata": {},
   "source": [
    "کار با فایل"
   ]
  },
  {
   "cell_type": "markdown",
   "metadata": {},
   "source": [
    "syntax:"
   ]
  },
  {
   "cell_type": "code",
   "execution_count": null,
   "metadata": {},
   "outputs": [],
   "source": [
    "# در روش پایین باید با متد کلوز فایل را ببندیم\n",
    "# varible = open(name_file, mode)\n",
    "# varible.close()\n",
    "\n",
    "# در روش پایین دستور ویت بستن فایل را هندل میکند\n",
    "# with open(name_file, mode) as varible:\n",
    "#   ..."
   ]
  },
  {
   "cell_type": "markdown",
   "metadata": {},
   "source": [
    "mods:"
   ]
  },
  {
   "cell_type": "code",
   "execution_count": 3,
   "metadata": {},
   "outputs": [],
   "source": [
    "# 'r' ---> خواندن،اگر فایل وجود نداشته باشد ارور میدهد\n",
    "# 'w' ---> نوشتن،اگر فایل وجود نداشته باشد آن را درست میکند \n",
    "# مود دبلیو فایل را خالی میکند و از اول مینویسد\n",
    "# 'x' ---> ایجاد،اگر فایل وجود داشته باشد ارور میدهد\n",
    "# 'a' ---> اضافه،اگر  فایل وجود نداشته باشد آن را درست میکند\n",
    "# مود ای به انتهای فایل متن را اضافه میکند"
   ]
  },
  {
   "cell_type": "markdown",
   "metadata": {},
   "source": [
    "نکته:"
   ]
  },
  {
   "cell_type": "markdown",
   "metadata": {},
   "source": [
    "فایل پایتون و فایل متن شما باید در یک مسیر باشند تا به مشکل نخورد برای به مشکل نخوردن در این موضوع میتوانیم جای نام فایل آدرس فایل هم ذکر کنیم"
   ]
  },
  {
   "cell_type": "code",
   "execution_count": null,
   "metadata": {},
   "outputs": [],
   "source": [
    "# with open(r'C:\\Users\\ASUS\\Desktop\\python lessons\\19.File.txt', 'w') as f:\n",
    "#     ...\n",
    "# with open('C:/Users/ASUS/Desktop/python lessons/19.File.txt', 'w') as f:\n",
    "#     ...\n",
    "# with open('C:\\\\Users\\\\ASUS\\\\Desktop\\\\python lessons\\\\19.File.txt', 'w') as f:\n",
    "#     ...\n",
    "\n",
    "# در سه مورد بالا با عمل هایی که انجام دادیم کاکرتر های خاص استرینگ \n",
    "# را غیر فعال کردیم تا به مشکل نخوریم"
   ]
  },
  {
   "cell_type": "code",
   "execution_count": null,
   "metadata": {},
   "outputs": [],
   "source": [
    "with open(r'C:\\Users\\ASUS\\Desktop\\python lessons\\21.2.Input File', 'r') as f1:\n",
    "    with open(r'C:\\Users\\ASUS\\Desktop\\python lessons\\21.3.Output File', 'w') as f2:\n",
    "        for line in f1:\n",
    "            line = line.strip() \n",
    "            if line:  \n",
    "                line = line.split(',')\n",
    "                l = []  \n",
    "                for i in range(1, len(line)):\n",
    "                    l.append(int(line[i]))  \n",
    "                if l:  \n",
    "                    avg = f'{line[0]}, {round(sum(l) / len(l), 2)}'  \n",
    "                    f2.write(avg + '\\n')  "
   ]
  },
  {
   "cell_type": "code",
   "execution_count": null,
   "metadata": {},
   "outputs": [],
   "source": [
    "f3 = open(r'C:\\Users\\ASUS\\Desktop\\python lessons\\21.2.Input File', 'r')\n",
    "f4 = open(r'C:\\Users\\ASUS\\Desktop\\python lessons\\21.3.Output File', 'w')\n",
    "for line in f3:\n",
    "    line = line.strip()\n",
    "    if line:\n",
    "        line = line.split(',')\n",
    "        l = []\n",
    "        for i in range(1, len(line)):\n",
    "            l.append(int(line[i]))\n",
    "        if l:\n",
    "            avg = f'{line[0]}, {round(sum(l) / len(l), 2)}'\n",
    "            f4.write(avg + '\\n')\n",
    "f3.close()\n",
    "f4.close()"
   ]
  }
 ],
 "metadata": {
  "kernelspec": {
   "display_name": "base",
   "language": "python",
   "name": "python3"
  },
  "language_info": {
   "codemirror_mode": {
    "name": "ipython",
    "version": 3
   },
   "file_extension": ".py",
   "mimetype": "text/x-python",
   "name": "python",
   "nbconvert_exporter": "python",
   "pygments_lexer": "ipython3",
   "version": "3.12.7"
  }
 },
 "nbformat": 4,
 "nbformat_minor": 2
}
