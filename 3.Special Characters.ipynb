{
 "cells": [
  {
   "cell_type": "markdown",
   "id": "cce098f8-4dea-4b06-936d-72dc8f135c03",
   "metadata": {},
   "source": [
    "کارکتر های خاص:"
   ]
  },
  {
   "cell_type": "markdown",
   "id": "f9fde0b6-853d-4c7e-9fdd-c052101d968c",
   "metadata": {},
   "source": [
    "بعضی حروف و کارکتر ها در استرینگ قابلیت های خاصی دارند که با کارکتر بک اسلش/قابلیتشان فعال یا غیر فعال میشود"
   ]
  },
  {
   "cell_type": "code",
   "execution_count": 1,
   "id": "0ea37209",
   "metadata": {},
   "outputs": [
    {
     "name": "stdout",
     "output_type": "stream",
     "text": [
      "Ali\\Reza\n"
     ]
    },
    {
     "name": "stderr",
     "output_type": "stream",
     "text": [
      "<>:1: SyntaxWarning: invalid escape sequence '\\R'\n",
      "<>:1: SyntaxWarning: invalid escape sequence '\\R'\n",
      "C:\\Users\\ASUS\\AppData\\Local\\Temp\\ipykernel_16852\\970102270.py:1: SyntaxWarning: invalid escape sequence '\\R'\n",
      "  print('Ali\\Reza')\n"
     ]
    }
   ],
   "source": [
    "print('Ali\\Reza')"
   ]
  },
  {
   "cell_type": "code",
   "execution_count": 1,
   "id": "c5874f29-8b1d-4a9a-966b-12b11fee4718",
   "metadata": {},
   "outputs": [
    {
     "name": "stdout",
     "output_type": "stream",
     "text": [
      "alireza\n",
      "sayad\n"
     ]
    }
   ],
   "source": [
    "# \\n ---> new line\n",
    "print('alireza\\nsayad')"
   ]
  },
  {
   "cell_type": "code",
   "execution_count": 1,
   "id": "f187f30f-d854-4fc1-9388-cad2807ab97c",
   "metadata": {},
   "outputs": [
    {
     "name": "stdout",
     "output_type": "stream",
     "text": [
      "alireza \tsayad\n"
     ]
    }
   ],
   "source": [
    "# \\t ---> print a tab\n",
    "print(\"alireza \\tsayad\")"
   ]
  },
  {
   "cell_type": "code",
   "execution_count": 37,
   "id": "de7aa5ba-89a2-47ca-9381-4104f6625630",
   "metadata": {},
   "outputs": [
    {
     "name": "stdout",
     "output_type": "stream",
     "text": [
      "alireza\\sayad\n"
     ]
    }
   ],
   "source": [
    "# \\\\ ---> pint backslash\n",
    "print('alireza\\\\sayad')"
   ]
  },
  {
   "cell_type": "code",
   "execution_count": 35,
   "id": "7ad2b7b7-5dae-4130-bb95-39d29a580a18",
   "metadata": {},
   "outputs": [
    {
     "name": "stdout",
     "output_type": "stream",
     "text": [
      "ali\"reza\"sayad\n"
     ]
    }
   ],
   "source": [
    "# \\\" ---> print \"\n",
    "print(\"ali\\\"reza\\\"sayad\")"
   ]
  },
  {
   "cell_type": "code",
   "execution_count": 36,
   "id": "27e4219f-7ce1-4185-be58-e0e084c21289",
   "metadata": {},
   "outputs": [
    {
     "name": "stdout",
     "output_type": "stream",
     "text": [
      "ali'reza'sayad\n"
     ]
    }
   ],
   "source": [
    "# \\' ---> print '\n",
    "print('ali\\'reza\\'sayad')"
   ]
  },
  {
   "cell_type": "code",
   "execution_count": 41,
   "id": "a9596420-a507-4f7f-b462-a421da514e30",
   "metadata": {},
   "outputs": [
    {
     "name": "stdout",
     "output_type": "stream",
     "text": [
      "alireza\\nsayad\n",
      "alireza\\tsayad\n",
      "alireza\\\\sayad\n"
     ]
    }
   ],
   "source": [
    "# r\"text\" ---> Disable special characters\n",
    "print(r\"alireza\\nsayad\")\n",
    "print(r\"alireza\\tsayad\")\n",
    "print(r\"alireza\\\\sayad\")"
   ]
  },
  {
   "cell_type": "code",
   "execution_count": null,
   "id": "18033c5d",
   "metadata": {},
   "outputs": [],
   "source": [
    "# جمع بندی:\n",
    "#    |---> اگر قابلیتش فعال باشه اون قابلیت رو غیر فعال میکنه\n",
    "# \\  |---> اگر فابلیتش غیر فعال باشه اون قابلیت رو فعال میکنه\n",
    "#    |---> اگر قابلیت نداشته باشه ارور میده\n",
    "\n",
    "# r''  |---> تمام قابلیت هارو داخل استرینگ غیر فعال میکنه"
   ]
  }
 ],
 "metadata": {
  "kernelspec": {
   "display_name": "Python 3",
   "language": "python",
   "name": "python3"
  },
  "language_info": {
   "codemirror_mode": {
    "name": "ipython",
    "version": 3
   },
   "file_extension": ".py",
   "mimetype": "text/x-python",
   "name": "python",
   "nbconvert_exporter": "python",
   "pygments_lexer": "ipython3",
   "version": "3.13.1"
  }
 },
 "nbformat": 4,
 "nbformat_minor": 5
}
