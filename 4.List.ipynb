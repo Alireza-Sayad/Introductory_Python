{
 "cells": [
  {
   "cell_type": "markdown",
   "id": "35930824-3933-4a40-8161-62069329987f",
   "metadata": {},
   "source": [
    "لیست:شی ای است که می تواند چندین شی مختلف را در خودش جای دهد "
   ]
  },
  {
   "cell_type": "markdown",
   "id": "5c34d04c",
   "metadata": {},
   "source": [
    "اشیا داخل دو براکت [] هستند و با کاما , از هم جدا میشوند"
   ]
  },
  {
   "cell_type": "markdown",
   "id": "8a6f9ab0-ca9b-4f84-85b7-5e007691797b",
   "metadata": {},
   "source": [
    "ویژگی ها:"
   ]
  },
  {
   "cell_type": "code",
   "execution_count": 1,
   "id": "5d3d12d9-67e9-43f3-abfe-d8f97e4e6d9f",
   "metadata": {},
   "outputs": [
    {
     "name": "stdout",
     "output_type": "stream",
     "text": [
      "4\n",
      "---------------------------\n",
      "1\n",
      "2\n",
      "3\n",
      "4\n",
      "5\n",
      "---------------------------\n",
      "1\n",
      "2\n",
      "3\n",
      "4\n",
      "5\n",
      "---------------------------\n",
      "[1, 1, 1, 4, 5]\n",
      "---------------------------\n",
      "['AliReza', 1, 1, 4, 5]\n"
     ]
    }
   ],
   "source": [
    "# list ---> list\n",
    "l1 = [1, 2, 3, 4, 5]\n",
    "l2 = list((1, 2, 3, 4, 5))\n",
    "\n",
    "# index ---> True\n",
    "print(l1[3])\n",
    "print('---------------------------')\n",
    "\n",
    "# while ---> True\n",
    "for i in l1:\n",
    "    print(i)\n",
    "print('---------------------------')\n",
    "j = 0\n",
    "while j < len(l1):\n",
    "    print(l1[j])\n",
    "    j += 1\n",
    "print('---------------------------')\n",
    "\n",
    "# duplicate object ---> True\n",
    "l1[1:3] = [1, 1]\n",
    "print(l1)\n",
    "print('---------------------------')\n",
    "\n",
    "# edit object ---> True\n",
    "l1[0] = \"AliReza\"\n",
    "print(l1)"
   ]
  },
  {
   "cell_type": "code",
   "execution_count": 2,
   "id": "949815e8-a684-4088-bd09-708353ae55be",
   "metadata": {},
   "outputs": [
    {
     "name": "stdout",
     "output_type": "stream",
     "text": [
      "[1, 2, [3, 4, 5, [[6], 7, 8], 9]]\n",
      "[3, 4, 5, [[6], 7, 8], 9]\n",
      "[[6], 7, 8]\n",
      "[6]\n"
     ]
    }
   ],
   "source": [
    "l2 = [1, 2, [3, 4, 5, [[6], 7, 8], 9]]\n",
    "print(l2)\n",
    "print(l2[2])\n",
    "print(l2[2][3])\n",
    "print(l2[2][3][0])"
   ]
  },
  {
   "cell_type": "markdown",
   "id": "324447b9-bdaf-40e7-9629-8171d915558d",
   "metadata": {},
   "source": [
    "متد ها:"
   ]
  },
  {
   "cell_type": "code",
   "execution_count": 3,
   "id": "a553ab7e-1446-4dbd-9a27-5a949bd85f12",
   "metadata": {},
   "outputs": [],
   "source": [
    "l3 = [1, 2, 3, 4, 5]"
   ]
  },
  {
   "cell_type": "code",
   "execution_count": 4,
   "id": "29b2c3b9-fe51-4b85-9f10-b4ad0eefe22b",
   "metadata": {},
   "outputs": [
    {
     "name": "stdout",
     "output_type": "stream",
     "text": [
      "[1, 2, 3, 4, 5, 6]\n",
      "[1, 2, 3, 4, 5, 6, [7, 8, [9]]]\n"
     ]
    }
   ],
   "source": [
    "# append اضافه کردن یک شی به آخر لیست\n",
    "l3.append(6)\n",
    "print(l3)\n",
    "l3.append([7,8,[9]])\n",
    "print(l3)\n"
   ]
  },
  {
   "cell_type": "code",
   "execution_count": 5,
   "id": "b38e5e48-2157-4cd3-a21f-8f1c541ec9fe",
   "metadata": {},
   "outputs": [
    {
     "name": "stdout",
     "output_type": "stream",
     "text": [
      "[1, 2, 3, 4, 5, 6, [7, 8, [9]]]\n"
     ]
    }
   ],
   "source": [
    "# copy از لیست یک کپی میگیرد\n",
    "l3_copy = l3.copy()\n",
    "print(l3_copy)"
   ]
  },
  {
   "cell_type": "code",
   "execution_count": 6,
   "id": "e9d0026e-3089-402b-b341-93e682690caa",
   "metadata": {},
   "outputs": [
    {
     "name": "stdout",
     "output_type": "stream",
     "text": [
      "[]\n",
      "[1, 2, 3, 4, 5, 6, [7, 8, [9]]]\n"
     ]
    }
   ],
   "source": [
    "# clear تمام اشیا لیست را پاک میکند\n",
    "l3.clear()\n",
    "print(l3)\n",
    "print(l3_copy)"
   ]
  },
  {
   "cell_type": "code",
   "execution_count": 7,
   "id": "bc62960f-c4e3-4810-bce3-5bb311091c1a",
   "metadata": {},
   "outputs": [
    {
     "name": "stdout",
     "output_type": "stream",
     "text": [
      "1\n",
      "0\n"
     ]
    }
   ],
   "source": [
    "# count از شی مورد نظر چند عدد در لیست وجود دارد\n",
    "c = l3_copy.count(1)\n",
    "print(c)\n",
    "c1 = l3_copy.count(7)\n",
    "print(c1)"
   ]
  },
  {
   "cell_type": "code",
   "execution_count": 8,
   "id": "2a1a4fbe-680c-4c30-b1cb-7f35eb457963",
   "metadata": {},
   "outputs": [
    {
     "name": "stdout",
     "output_type": "stream",
     "text": [
      "[1, 2, 3, 4, 5, 6, [7, 8, [9]], 10, 11, 12]\n"
     ]
    }
   ],
   "source": [
    "# extend دو لیست را به هم میچسباند\n",
    "l4 = [10, 11, 12]\n",
    "l3_copy.extend(l4)\n",
    "print(l3_copy)"
   ]
  },
  {
   "cell_type": "code",
   "execution_count": 9,
   "id": "8742ea41-0dc2-49fd-9181-e9849013ef80",
   "metadata": {},
   "outputs": [
    {
     "name": "stdout",
     "output_type": "stream",
     "text": [
      "6\n",
      "3\n"
     ]
    }
   ],
   "source": [
    "# index ایندکس شی مورد نظر را برمیگرداند\n",
    "i = l3_copy.index([7, 8, [9]])\n",
    "print(i)\n",
    "i1 = l3_copy.index(4)\n",
    "print(i1)"
   ]
  },
  {
   "cell_type": "code",
   "execution_count": 10,
   "id": "2cf36127-52ea-4267-a380-d16ebee97146",
   "metadata": {},
   "outputs": [
    {
     "name": "stdout",
     "output_type": "stream",
     "text": [
      "['ali', 1, 2, 3, 4, 5, 6, [7, 8, [9]], 10, 11, 12]\n"
     ]
    }
   ],
   "source": [
    "# insert ورودی دوم را در ایندکس ورودی اول قرار میدهد\n",
    "l3_copy.insert(0, \"ali\")\n",
    "print(l3_copy)"
   ]
  },
  {
   "cell_type": "code",
   "execution_count": 11,
   "id": "baa08498-ff8a-463e-9755-51ddee96016c",
   "metadata": {},
   "outputs": [
    {
     "name": "stdout",
     "output_type": "stream",
     "text": [
      "['ali', 1, 2, 3, 4, 5, 6, 10, 11, 12]\n",
      "[7, 8, [9]]\n"
     ]
    }
   ],
   "source": [
    "# pop از طریق ایندکس شی مورد نظر را برمیدارد(دور نمی اندازد)\n",
    "p = l3_copy.pop(7)\n",
    "print(l3_copy)\n",
    "print(p)"
   ]
  },
  {
   "cell_type": "code",
   "execution_count": 12,
   "id": "cc35b00e-cf42-42fe-80f7-c29c0f9f4778",
   "metadata": {},
   "outputs": [
    {
     "name": "stdout",
     "output_type": "stream",
     "text": [
      "['ali', 1, 2, 3, 4, 5, 6, 10, 12]\n"
     ]
    }
   ],
   "source": [
    "# remove از طریق نام شی آن را از لیست حذف میکند\n",
    "l3_copy.remove(11)\n",
    "print(l3_copy)"
   ]
  },
  {
   "cell_type": "code",
   "execution_count": 13,
   "id": "6bc8d3b3-96ea-4f52-a5e3-0ecb64df147c",
   "metadata": {},
   "outputs": [
    {
     "name": "stdout",
     "output_type": "stream",
     "text": [
      "[12, 10, 6, 5, 4, 3, 2, 1, 'ali']\n"
     ]
    }
   ],
   "source": [
    "# reverse لیست را برعکس میکند\n",
    "l3_copy.reverse()\n",
    "print(l3_copy)"
   ]
  },
  {
   "cell_type": "code",
   "execution_count": 14,
   "id": "d7e88a13-d854-493e-96f5-51b269876b20",
   "metadata": {},
   "outputs": [
    {
     "name": "stdout",
     "output_type": "stream",
     "text": [
      "['A', 'B', 'E', 'Z']\n",
      "['Z', 'E', 'B', 'A']\n"
     ]
    }
   ],
   "source": [
    "# sort به ترتیب حروف الفبا لیست را از کوچک به بزرگ مرتب میکند\n",
    "l5 = ['A', 'Z', 'E', 'B',]\n",
    "l5.sort()\n",
    "print(l5)\n",
    "l5.sort(reverse=True)\n",
    "print(l5)"
   ]
  }
 ],
 "metadata": {
  "kernelspec": {
   "display_name": "Python 3",
   "language": "python",
   "name": "python3"
  },
  "language_info": {
   "codemirror_mode": {
    "name": "ipython",
    "version": 3
   },
   "file_extension": ".py",
   "mimetype": "text/x-python",
   "name": "python",
   "nbconvert_exporter": "python",
   "pygments_lexer": "ipython3",
   "version": "3.12.6"
  }
 },
 "nbformat": 4,
 "nbformat_minor": 5
}
