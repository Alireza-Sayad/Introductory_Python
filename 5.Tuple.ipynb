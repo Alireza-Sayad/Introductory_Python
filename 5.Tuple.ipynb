{
 "cells": [
  {
   "cell_type": "markdown",
   "id": "62471a49-6ea2-4bad-8426-366fdd109b2e",
   "metadata": {},
   "source": [
    "تاپل:شی ای است که می تواند چندین شی مختلف را در خودش جای دهد"
   ]
  },
  {
   "cell_type": "markdown",
   "id": "cbad54df",
   "metadata": {},
   "source": [
    "اشیا داخل دو پرانتز () هستند و با کاما , از هم جدا میشوند"
   ]
  },
  {
   "cell_type": "code",
   "execution_count": 1,
   "id": "dbfbaefc-53a5-4eb8-a39c-fe8741513e1f",
   "metadata": {},
   "outputs": [
    {
     "name": "stdout",
     "output_type": "stream",
     "text": [
      "(1, 2, [3, 4, 5, [6, 7, 8], 9])\n",
      "[3, 4, 5, [6, 7, 8], 9]\n",
      "[6, 7, 8]\n",
      "6\n"
     ]
    }
   ],
   "source": [
    "t = (1, 2, [3, 4, 5, [(6), 7, 8], 9])\n",
    "print(t)\n",
    "print(t[2])\n",
    "print(t[2][3])\n",
    "print(t[2][3][0])"
   ]
  },
  {
   "cell_type": "code",
   "execution_count": null,
   "id": "f82b774b",
   "metadata": {},
   "outputs": [
    {
     "name": "stdout",
     "output_type": "stream",
     "text": [
      "<class 'int'>\n",
      "<class 'tuple'>\n"
     ]
    }
   ],
   "source": [
    "t1 = (5) # عدد 5\n",
    "print(type(t1))\n",
    "t2 = (5,) # تاپل تک عضوی\n",
    "print(type(t2)) "
   ]
  },
  {
   "cell_type": "markdown",
   "id": "d0c099c3-057a-442e-8f93-2478b0354cfb",
   "metadata": {},
   "source": [
    "ویژگی ها:"
   ]
  },
  {
   "cell_type": "code",
   "execution_count": 2,
   "id": "f5b7d026-a540-4e44-aa9f-8ebae3e338f1",
   "metadata": {},
   "outputs": [
    {
     "name": "stdout",
     "output_type": "stream",
     "text": [
      "4\n",
      "---------------------------\n",
      "1\n",
      "2\n",
      "3\n",
      "4\n",
      "5\n",
      "5\n",
      "---------------------------\n",
      "1\n",
      "2\n",
      "3\n",
      "4\n",
      "5\n",
      "5\n",
      "---------------------------\n",
      "(1, 2, 3, 4, 5, 5)\n"
     ]
    }
   ],
   "source": [
    "# tuple ---> tuple\n",
    "t1 = (1, 2, 3, 4, 5, 5)\n",
    "t2 = tuple((1, 2, 3, 4, 5, 5))\n",
    "\n",
    "# index ---> True\n",
    "print(t1[3])\n",
    "print('---------------------------')\n",
    "\n",
    "# while ---> True\n",
    "for i in t1:\n",
    "    print(i)\n",
    "print('---------------------------')\n",
    "j = 0\n",
    "while j<len(t1):\n",
    "    print(t1[j])\n",
    "    j += 1\n",
    "print('---------------------------')\n",
    "# duplicate object ---> True\n",
    "print(t1)\n",
    "# edit object ---> True"
   ]
  },
  {
   "cell_type": "markdown",
   "id": "16d0fc58-de47-4bb8-b946-8f95688028fc",
   "metadata": {},
   "source": [
    " متد ها"
   ]
  },
  {
   "cell_type": "code",
   "execution_count": 3,
   "id": "cce105a9-d002-47e2-ba21-33a86d52ed3b",
   "metadata": {},
   "outputs": [
    {
     "name": "stdout",
     "output_type": "stream",
     "text": [
      "1\n",
      "2\n"
     ]
    }
   ],
   "source": [
    "# count از شی مورد نظر چند عدد در تاپل وجود دارد\n",
    "c = t1.count(1)\n",
    "print(c)\n",
    "c1 = t1.count(5)\n",
    "print(c1)"
   ]
  },
  {
   "cell_type": "code",
   "execution_count": 4,
   "id": "8cc27266-8d8e-4890-90e1-2ddb6e68eff6",
   "metadata": {},
   "outputs": [
    {
     "name": "stdout",
     "output_type": "stream",
     "text": [
      "2\n"
     ]
    }
   ],
   "source": [
    "# index ایندکس شی مورد نظر را برمیگرداند\n",
    "i = t1.index(3)\n",
    "print(i)"
   ]
  }
 ],
 "metadata": {
  "kernelspec": {
   "display_name": "Python 3",
   "language": "python",
   "name": "python3"
  },
  "language_info": {
   "codemirror_mode": {
    "name": "ipython",
    "version": 3
   },
   "file_extension": ".py",
   "mimetype": "text/x-python",
   "name": "python",
   "nbconvert_exporter": "python",
   "pygments_lexer": "ipython3",
   "version": "3.12.6"
  }
 },
 "nbformat": 4,
 "nbformat_minor": 5
}
