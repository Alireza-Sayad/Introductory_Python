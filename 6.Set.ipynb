{
 "cells": [
  {
   "cell_type": "markdown",
   "id": "55d34063-7a1a-4fc5-b182-d8ba7e22a004",
   "metadata": {},
   "source": [
    "ست یا مجموعه:شی ای است که می تواند چندین شی مختلف را در خودش جای دهد"
   ]
  },
  {
   "cell_type": "markdown",
   "id": "5e4146fa",
   "metadata": {},
   "source": [
    "اشیا داخل دو کروشه {} هستند و با کاما , از هم جدا میشوند"
   ]
  },
  {
   "cell_type": "markdown",
   "id": "00ed5c43-b247-49df-81d6-ee4228b00b8e",
   "metadata": {},
   "source": [
    "ویژگی ها:"
   ]
  },
  {
   "cell_type": "code",
   "execution_count": 2,
   "id": "d80654b6-cb8d-490f-a7aa-c5de83dc5a40",
   "metadata": {},
   "outputs": [
    {
     "name": "stdout",
     "output_type": "stream",
     "text": [
      "{1, 2, 3, 5, 6}\n",
      "---------------------------\n",
      "1\n",
      "2\n",
      "3\n",
      "5\n",
      "6\n"
     ]
    }
   ],
   "source": [
    "# set ---> set\n",
    "s1 = {1, 2, 3, 6, 6, 5, 1}\n",
    "s2 = set((1, 2, 3, 5, 6))\n",
    "print(s1)\n",
    "print('---------------------------')\n",
    "\n",
    "# duplicate object ---> False\n",
    "# index ---> False\n",
    "# edit object ---> False\n",
    "# while ---> True\n",
    "for i in s1:\n",
    "    print(i)"
   ]
  },
  {
   "cell_type": "markdown",
   "id": "054828ff-d5ad-459c-a383-3e7353af2d66",
   "metadata": {},
   "source": [
    "متد ها:"
   ]
  },
  {
   "cell_type": "code",
   "execution_count": 2,
   "id": "599c810f-0fa8-43d4-89f5-aec2e936f219",
   "metadata": {},
   "outputs": [],
   "source": [
    "s1 = {1, 2, 3, 4, 5}\n",
    "s2 = {5, 6, 7, 8, 9}"
   ]
  },
  {
   "cell_type": "code",
   "execution_count": 3,
   "id": "6af969d3-e5ee-4476-bcf8-9c3925bf9883",
   "metadata": {},
   "outputs": [
    {
     "name": "stdout",
     "output_type": "stream",
     "text": [
      "{1, 2, 3, 4, 5, 6}\n"
     ]
    }
   ],
   "source": [
    "# add یک شی به آخر مجموعه اضافه میکند\n",
    "s1.add(6)\n",
    "print(s1)"
   ]
  },
  {
   "cell_type": "code",
   "execution_count": 4,
   "id": "78491b77-c743-464d-bd72-9280cd87c09b",
   "metadata": {},
   "outputs": [
    {
     "name": "stdout",
     "output_type": "stream",
     "text": [
      "{1, 2, 3, 4, 5, 6}\n",
      "{1, 2, 3, 4, 5, 6}\n"
     ]
    }
   ],
   "source": [
    "# copy یک کپی از مجموعه میگیرد\n",
    "s1_copy = s1.copy()\n",
    "print(s1_copy)\n",
    "print(s1)"
   ]
  },
  {
   "cell_type": "code",
   "execution_count": 5,
   "id": "a68691be-e503-4673-b2aa-5f8458b42482",
   "metadata": {},
   "outputs": [
    {
     "name": "stdout",
     "output_type": "stream",
     "text": [
      "set()\n",
      "{1, 2, 3, 4, 5, 6}\n"
     ]
    }
   ],
   "source": [
    "#clear تمام اعضای یک مجموعه را پاک میکند\n",
    "s1_copy.clear()\n",
    "print(s1_copy)\n",
    "print(s1)"
   ]
  },
  {
   "cell_type": "code",
   "execution_count": 6,
   "id": "d8e5127a-04a4-449c-aa5d-cc02acf564a7",
   "metadata": {},
   "outputs": [
    {
     "name": "stdout",
     "output_type": "stream",
     "text": [
      "{1, 2, 3, 4}\n"
     ]
    }
   ],
   "source": [
    "# difference اعضای متفاوت مجموعه را نشان میدهد\n",
    "diff = s1.difference(s2)\n",
    "print(diff)"
   ]
  },
  {
   "cell_type": "code",
   "execution_count": 7,
   "id": "9a62dacf-62e6-46f7-9ca9-861eccf1cbf5",
   "metadata": {},
   "outputs": [
    {
     "name": "stdout",
     "output_type": "stream",
     "text": [
      "{1, 2, 3, 4}\n"
     ]
    }
   ],
   "source": [
    "# difference_update اعضای مشابه مجموعه را حذف میکند\n",
    "s1.difference_update(s2)\n",
    "print(s1)"
   ]
  },
  {
   "cell_type": "code",
   "execution_count": 8,
   "id": "7f5bcdc3-dc1f-41c9-a046-8b9f7dc83b00",
   "metadata": {},
   "outputs": [],
   "source": [
    "s1 = {1, 2, 3, 4, 5}\n",
    "s2 = {5, 6, 7, 8, 9}"
   ]
  },
  {
   "cell_type": "code",
   "execution_count": 9,
   "id": "d8751576-b78a-45b7-b85c-c4a596bb1dad",
   "metadata": {},
   "outputs": [
    {
     "name": "stdout",
     "output_type": "stream",
     "text": [
      "{5, 6, 7, 8}\n"
     ]
    }
   ],
   "source": [
    "# discard شی مشخص شده را حذف میکند\n",
    "s2.discard(9)\n",
    "print(s2)"
   ]
  },
  {
   "cell_type": "code",
   "execution_count": 10,
   "id": "71526aa9-eeda-48b8-9950-182ed8f82b85",
   "metadata": {},
   "outputs": [
    {
     "name": "stdout",
     "output_type": "stream",
     "text": [
      "{5}\n"
     ]
    }
   ],
   "source": [
    "# intersection اعضای مشابه را نشان میدهد\n",
    "inte = s1.intersection(s2)\n",
    "print(inte)"
   ]
  },
  {
   "cell_type": "code",
   "execution_count": 11,
   "id": "f913a524-70ae-4fff-93f2-83a82e6cd353",
   "metadata": {},
   "outputs": [
    {
     "name": "stdout",
     "output_type": "stream",
     "text": [
      "{5}\n"
     ]
    }
   ],
   "source": [
    "# intersection_update اعضای متفاوت را حذف میکند\n",
    "s1.intersection_update(s2)\n",
    "print(s1)"
   ]
  },
  {
   "cell_type": "code",
   "execution_count": 12,
   "id": "0073cdc8-4375-4498-bcb9-47baaa47f1bf",
   "metadata": {},
   "outputs": [],
   "source": [
    "s1 = {1, 2, 3, 4, 5}\n",
    "s2 = {5, 6, 7, 8, 9}"
   ]
  },
  {
   "cell_type": "code",
   "execution_count": 13,
   "id": "579f1a88-2ab8-4996-b531-c269a27ac283",
   "metadata": {},
   "outputs": [
    {
     "name": "stdout",
     "output_type": "stream",
     "text": [
      "False\n"
     ]
    }
   ],
   "source": [
    "# isdisjoint آیا دو مجموعه مجزاهستند\n",
    "isdi = s1.isdisjoint(s2)\n",
    "print(isdi)"
   ]
  },
  {
   "cell_type": "code",
   "execution_count": 14,
   "id": "ab88ceb4-762b-4c8b-8671-cceee5c09d28",
   "metadata": {},
   "outputs": [
    {
     "name": "stdout",
     "output_type": "stream",
     "text": [
      "False\n"
     ]
    }
   ],
   "source": [
    "# issubset آیا مجموعه مورد نظر زیر مجموعه مجموعه دوم است\n",
    "issu = s1.issubset(s2)\n",
    "print(issu)"
   ]
  },
  {
   "cell_type": "code",
   "execution_count": 15,
   "id": "494c5a96-9432-43d7-adbd-e9495bf043a1",
   "metadata": {},
   "outputs": [
    {
     "name": "stdout",
     "output_type": "stream",
     "text": [
      "False\n"
     ]
    }
   ],
   "source": [
    "# issuperset آیا مجموعه دوم زیر مجموعه مجموعه مورد نظر است\n",
    "issu = s1.issuperset(s2)\n",
    "print(issu)"
   ]
  },
  {
   "cell_type": "code",
   "execution_count": 16,
   "id": "9987e0e9-6e51-4448-a800-02a4a7ebaaf1",
   "metadata": {},
   "outputs": [
    {
     "name": "stdout",
     "output_type": "stream",
     "text": [
      "{2, 3, 4, 5}\n",
      "1\n"
     ]
    }
   ],
   "source": [
    "# pop یک شی را از مجموعه حذف میکند\n",
    "p = s1.pop()\n",
    "print(s1)\n",
    "print(p)"
   ]
  },
  {
   "cell_type": "code",
   "execution_count": 17,
   "id": "61b304c8-4988-40d1-ac7f-27276509b064",
   "metadata": {},
   "outputs": [
    {
     "name": "stdout",
     "output_type": "stream",
     "text": [
      "{5, 6, 7, 8}\n"
     ]
    }
   ],
   "source": [
    "# remove شی مورد نظر را از مجموعه پاک میکند\n",
    "s2.remove(9)\n",
    "print(s2)"
   ]
  },
  {
   "cell_type": "code",
   "execution_count": 18,
   "id": "183f6961-c392-4142-9441-8dee62243632",
   "metadata": {},
   "outputs": [
    {
     "name": "stdout",
     "output_type": "stream",
     "text": [
      "{2, 3, 4, 6, 7, 8}\n"
     ]
    }
   ],
   "source": [
    "# symmetric_difference دو مجموعه را وصل میکند و اضای مشابه را حذف میکند\n",
    "sydi = s1.symmetric_difference(s2)\n",
    "print(sydi)"
   ]
  },
  {
   "cell_type": "code",
   "execution_count": 19,
   "id": "e631b9cc-e496-4f2d-8773-3574502f7c56",
   "metadata": {},
   "outputs": [
    {
     "name": "stdout",
     "output_type": "stream",
     "text": [
      "{2, 3, 4, 6, 7, 8}\n"
     ]
    }
   ],
   "source": [
    "# symmetric_difference_update اعضای متفاوت دو مجموعه را وصل میکند\n",
    "s1.symmetric_difference_update(s2)\n",
    "print(s1)"
   ]
  },
  {
   "cell_type": "code",
   "execution_count": 20,
   "id": "150f8b46-46c3-4d89-8192-8444cd4850e7",
   "metadata": {},
   "outputs": [],
   "source": [
    "s1 = {1, 2, 3, 4, 5}\n",
    "s2 = {5, 6, 7, 8, 9}"
   ]
  },
  {
   "cell_type": "code",
   "execution_count": 21,
   "id": "29fa44ee-2483-43f4-a36f-3da0dd378c96",
   "metadata": {},
   "outputs": [
    {
     "name": "stdout",
     "output_type": "stream",
     "text": [
      "{1, 2, 3, 4, 5, 6, 7, 8, 9}\n"
     ]
    }
   ],
   "source": [
    "# union اجتماع دو مجموعه\n",
    "u = s1.union(s2)\n",
    "print(u)"
   ]
  },
  {
   "cell_type": "code",
   "execution_count": 22,
   "id": "824e0439-a504-4adb-8159-ce967dc491f3",
   "metadata": {},
   "outputs": [
    {
     "name": "stdout",
     "output_type": "stream",
     "text": [
      "{1, 2, 3, 4, 5, 6, 7, 8, 9}\n"
     ]
    }
   ],
   "source": [
    "# update اجتماع دو مجموعه\n",
    "s1.update(s2)\n",
    "print(s1)"
   ]
  },
  {
   "cell_type": "markdown",
   "id": "c30877ab",
   "metadata": {},
   "source": [
    "چند عملگر مخصوص مجموعه ها"
   ]
  },
  {
   "cell_type": "code",
   "execution_count": 1,
   "id": "5da5d79e",
   "metadata": {},
   "outputs": [],
   "source": [
    "s1 = {1, 2, 3, 4, 5}\n",
    "s2 = {5, 6, 7, 8, 9}"
   ]
  },
  {
   "cell_type": "code",
   "execution_count": null,
   "id": "4c0d46d8",
   "metadata": {},
   "outputs": [
    {
     "name": "stdout",
     "output_type": "stream",
     "text": [
      "{1, 2, 3, 4, 5, 6, 7, 8, 9}\n"
     ]
    }
   ],
   "source": [
    "# | ---> اجتماع دو مجموعه\n",
    "print(s1|s2)"
   ]
  },
  {
   "cell_type": "code",
   "execution_count": 3,
   "id": "d4569cde",
   "metadata": {},
   "outputs": [
    {
     "name": "stdout",
     "output_type": "stream",
     "text": [
      "{5}\n"
     ]
    }
   ],
   "source": [
    "# & ---> اشتراک دو مجموعه\n",
    "print(s1&s2)"
   ]
  },
  {
   "cell_type": "code",
   "execution_count": 5,
   "id": "1556c399",
   "metadata": {},
   "outputs": [
    {
     "name": "stdout",
     "output_type": "stream",
     "text": [
      "{1, 2, 3, 4}\n"
     ]
    }
   ],
   "source": [
    "# - ---> تفاضل دو مجموعه\n",
    "print(s1-s2)"
   ]
  },
  {
   "cell_type": "code",
   "execution_count": 6,
   "id": "7e1b5c1f",
   "metadata": {},
   "outputs": [
    {
     "name": "stdout",
     "output_type": "stream",
     "text": [
      "{1, 2, 3, 4, 6, 7, 8, 9}\n"
     ]
    }
   ],
   "source": [
    "# ^ ---> اجتماع منهای اشتراک مجموعه\n",
    "print(s1^s2)"
   ]
  }
 ],
 "metadata": {
  "kernelspec": {
   "display_name": "Python 3",
   "language": "python",
   "name": "python3"
  },
  "language_info": {
   "codemirror_mode": {
    "name": "ipython",
    "version": 3
   },
   "file_extension": ".py",
   "mimetype": "text/x-python",
   "name": "python",
   "nbconvert_exporter": "python",
   "pygments_lexer": "ipython3",
   "version": "3.13.1"
  }
 },
 "nbformat": 4,
 "nbformat_minor": 5
}
