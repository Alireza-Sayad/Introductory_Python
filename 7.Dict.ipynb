{
 "cells": [
  {
   "cell_type": "markdown",
   "id": "f19f8c34-3b7c-41e4-ad4b-2e88cf17f9b7",
   "metadata": {},
   "source": [
    "دیکشنری:شی ای است که می تواند چندین شی مختلف را در خودش به صورت کلید و مقداز جای دهد"
   ]
  },
  {
   "cell_type": "markdown",
   "id": "58c6e3d8",
   "metadata": {},
   "source": [
    "اشیا داخل دو کروشه {} هستند و با کاما , از هم جدا میشوند"
   ]
  },
  {
   "cell_type": "markdown",
   "id": "11c50f46-dc2b-455c-b0e5-cb43b78ecf28",
   "metadata": {},
   "source": [
    "ویژگی ها:"
   ]
  },
  {
   "cell_type": "code",
   "execution_count": 1,
   "id": "f37c44ad-f91b-43ec-91e8-bc1eddf053a2",
   "metadata": {},
   "outputs": [
    {
     "name": "stdout",
     "output_type": "stream",
     "text": [
      "{'name': 'ali', 'age': 15}\n",
      "---------------------------\n",
      "name: ali\n",
      "age: 15\n"
     ]
    }
   ],
   "source": [
    "# dictionary ---> dict\n",
    "d1 = {'name': 'alireza' , 'age':15}\n",
    "d2 = dict(\n",
    "         (('name','alireza'),\n",
    "         ('age',15))\n",
    "         )\n",
    "# duplicate object ---> False\n",
    "# index ---> False\n",
    "# edit object ---> True\n",
    "d1['name'] = 'ali'\n",
    "print(d1)\n",
    "print('---------------------------')\n",
    "# while ---> True\n",
    "for i,j in d1.items():\n",
    "    print(f'{i}: {j}')\n"
   ]
  },
  {
   "cell_type": "markdown",
   "id": "04b67595-a892-41a6-bfbb-779bdbf11fa1",
   "metadata": {},
   "source": [
    "متد ها:"
   ]
  },
  {
   "cell_type": "code",
   "execution_count": 2,
   "id": "fcaa1a76-4d6a-4ac3-b97a-1d4541b342c3",
   "metadata": {},
   "outputs": [],
   "source": [
    "d1 = {'name': 'alireza' , 'age':15}"
   ]
  },
  {
   "cell_type": "code",
   "execution_count": 3,
   "id": "26f65428-4e53-4fe0-8f4c-329d9bcb61db",
   "metadata": {},
   "outputs": [
    {
     "name": "stdout",
     "output_type": "stream",
     "text": [
      "{'name': 'alireza', 'age': 15}\n",
      "{'name': 'alireza', 'age': 15}\n"
     ]
    }
   ],
   "source": [
    "# copy یک کپی از دیکشنری میگیرد\n",
    "d1_copy = d1.copy()\n",
    "print(d1_copy)\n",
    "print(d1)"
   ]
  },
  {
   "cell_type": "code",
   "execution_count": 4,
   "id": "fabad4f5-5e78-4eb3-b493-9b33c9e4568d",
   "metadata": {},
   "outputs": [
    {
     "name": "stdout",
     "output_type": "stream",
     "text": [
      "{}\n",
      "{'name': 'alireza', 'age': 15}\n"
     ]
    }
   ],
   "source": [
    "# clear تمام اعضای دیکشنری را پاک میکند\n",
    "d1_copy.clear()\n",
    "print(d1_copy)\n",
    "print(d1)"
   ]
  },
  {
   "cell_type": "code",
   "execution_count": 5,
   "id": "068c1bdb-677b-49fc-ac29-111e09691298",
   "metadata": {},
   "outputs": [
    {
     "name": "stdout",
     "output_type": "stream",
     "text": [
      "{'name': 'alireza', 'age': 'alireza'}\n"
     ]
    }
   ],
   "source": [
    "# fromkeys یک مقدار را برای تمام کلید های دیکشنری در نظر میگیرد\n",
    "k1 = ('name', 'age')\n",
    "v1 = ('alireza')\n",
    "\n",
    "print(dict.fromkeys(k1, v1))"
   ]
  },
  {
   "cell_type": "code",
   "execution_count": 6,
   "id": "d706f534-0395-4dd2-912d-fadeca49a37e",
   "metadata": {},
   "outputs": [
    {
     "name": "stdout",
     "output_type": "stream",
     "text": [
      "15\n"
     ]
    }
   ],
   "source": [
    "# get مقدار کلید مورد نظر را بر میگرداند\n",
    "print(d1.get('age'))"
   ]
  },
  {
   "cell_type": "code",
   "execution_count": 7,
   "id": "31636e22-a3a9-49f1-a218-7894f21ca3da",
   "metadata": {},
   "outputs": [
    {
     "name": "stdout",
     "output_type": "stream",
     "text": [
      "15\n"
     ]
    }
   ],
   "source": [
    "# setdefault مقدار کلید مورد نظر را بر میگرداند\n",
    "print(d1.setdefault('age'))"
   ]
  },
  {
   "cell_type": "code",
   "execution_count": 8,
   "id": "b528176e-c9a0-4dd7-ae5b-b2752be0e02b",
   "metadata": {},
   "outputs": [
    {
     "name": "stdout",
     "output_type": "stream",
     "text": [
      "dict_items([('name', 'alireza'), ('age', 15)])\n"
     ]
    }
   ],
   "source": [
    "# items کلید ها و مقدار ها را برمیگرداند\n",
    "print(d1.items())"
   ]
  },
  {
   "cell_type": "code",
   "execution_count": 9,
   "id": "27962b09-f11b-4fb1-bb2f-9e8195239c55",
   "metadata": {},
   "outputs": [
    {
     "name": "stdout",
     "output_type": "stream",
     "text": [
      "dict_keys(['name', 'age'])\n"
     ]
    }
   ],
   "source": [
    "# kyes کلید های دیکشنری را برمیگرداند\n",
    "print(d1.keys())"
   ]
  },
  {
   "cell_type": "code",
   "execution_count": 10,
   "id": "4776ec4f-6b96-422b-b969-77bd9f36de16",
   "metadata": {},
   "outputs": [
    {
     "name": "stdout",
     "output_type": "stream",
     "text": [
      "dict_values(['alireza', 15])\n"
     ]
    }
   ],
   "source": [
    "# values مقادیر دیکشنری را برمیگرداند\n",
    "print(d1.values())"
   ]
  },
  {
   "cell_type": "code",
   "execution_count": 11,
   "id": "3624c44e-34f9-48ee-981b-b4e53ca548ec",
   "metadata": {},
   "outputs": [
    {
     "name": "stdout",
     "output_type": "stream",
     "text": [
      "{'name': 'alireza', 'age': 15, 'city': 'mashad'}\n"
     ]
    }
   ],
   "source": [
    "# update یک شی به انتهای دیکشنری اضافه میکند\n",
    "d1.update({'city': 'mashad'})\n",
    "print(d1)"
   ]
  },
  {
   "cell_type": "code",
   "execution_count": 12,
   "id": "5e9a0fca-f62b-4aa8-9625-398bdd0cc81d",
   "metadata": {},
   "outputs": [
    {
     "name": "stdout",
     "output_type": "stream",
     "text": [
      "{'name': 'alireza', 'age': 15}\n"
     ]
    }
   ],
   "source": [
    "# pop با گرفتن کلید آن عضو را از دیکشنری پاک میکند\n",
    "d1.pop('city')\n",
    "print(d1)"
   ]
  },
  {
   "cell_type": "code",
   "execution_count": 13,
   "id": "421eb452-79da-4a4a-a484-289e32c6c7ff",
   "metadata": {},
   "outputs": [
    {
     "name": "stdout",
     "output_type": "stream",
     "text": [
      "{'name': 'alireza'}\n"
     ]
    }
   ],
   "source": [
    "# popitem آخرین عضو دیکشنری را پاک میکند\n",
    "d1.popitem()\n",
    "print(d1)"
   ]
  }
 ],
 "metadata": {
  "kernelspec": {
   "display_name": "Python 3 (ipykernel)",
   "language": "python",
   "name": "python3"
  },
  "language_info": {
   "codemirror_mode": {
    "name": "ipython",
    "version": 3
   },
   "file_extension": ".py",
   "mimetype": "text/x-python",
   "name": "python",
   "nbconvert_exporter": "python",
   "pygments_lexer": "ipython3",
   "version": "3.12.6"
  }
 },
 "nbformat": 4,
 "nbformat_minor": 5
}
