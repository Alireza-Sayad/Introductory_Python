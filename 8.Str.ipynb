{
 "cells": [
  {
   "cell_type": "markdown",
   "id": "53003bcb-0226-4a41-ac52-00fac1f6c487",
   "metadata": {},
   "source": [
    "استرینگ"
   ]
  },
  {
   "cell_type": "markdown",
   "id": "0edee435-3d90-484c-8ecd-d642718ee42a",
   "metadata": {},
   "source": [
    "ویژگی ها"
   ]
  },
  {
   "cell_type": "code",
   "execution_count": 1,
   "id": "ce4f6c1e-e04d-4843-a8da-9d37fc803aa5",
   "metadata": {},
   "outputs": [],
   "source": [
    "# string ---> str\n",
    "s1 = 'Alireza Sayad'\n",
    "s2 = str('Ali')"
   ]
  },
  {
   "cell_type": "code",
   "execution_count": 2,
   "id": "7d3772bd-70bf-47fc-a34e-ef8c8ff15df4",
   "metadata": {},
   "outputs": [
    {
     "name": "stdout",
     "output_type": "stream",
     "text": [
      "r\n",
      "z\n"
     ]
    }
   ],
   "source": [
    "# index ---> True\n",
    "print(s1[3])\n",
    "print(s1[5])"
   ]
  },
  {
   "cell_type": "code",
   "execution_count": 3,
   "id": "fa90336f-7c78-47d9-a313-681609e90866",
   "metadata": {},
   "outputs": [
    {
     "name": "stdout",
     "output_type": "stream",
     "text": [
      "Alireza Sayad\n",
      "Alireza Sayad"
     ]
    }
   ],
   "source": [
    "# while ---> True\n",
    "for i in s1:\n",
    "    print(i, end='')\n",
    "print() \n",
    "\n",
    "j = 0\n",
    "while j<len(s1):\n",
    "    print(s1[j], end='')\n",
    "    j += 1"
   ]
  },
  {
   "cell_type": "code",
   "execution_count": 4,
   "id": "a0c9fc41-8d62-422a-aa03-cc67c5d487aa",
   "metadata": {},
   "outputs": [],
   "source": [
    "# edit object ---> False"
   ]
  },
  {
   "cell_type": "code",
   "execution_count": 5,
   "id": "fbc978f3-6649-4a56-83ec-662cc16a338d",
   "metadata": {},
   "outputs": [
    {
     "name": "stdout",
     "output_type": "stream",
     "text": [
      "aaaaaaa\n"
     ]
    }
   ],
   "source": [
    "# duplicate object ---> True\n",
    "print('aaaaaaa')"
   ]
  },
  {
   "cell_type": "markdown",
   "id": "1fd3371c-074d-4c29-99b5-68fa988d630d",
   "metadata": {},
   "source": [
    "متد ها:"
   ]
  },
  {
   "cell_type": "code",
   "execution_count": 6,
   "id": "dad98af8-b431-45b7-9b1a-c573a7baa3bc",
   "metadata": {},
   "outputs": [],
   "source": [
    "s1 = 'aliRezA saYad'"
   ]
  },
  {
   "cell_type": "code",
   "execution_count": 7,
   "id": "173cf763-e68d-4f43-8278-748259b3a80c",
   "metadata": {},
   "outputs": [
    {
     "name": "stdout",
     "output_type": "stream",
     "text": [
      "Alireza sayad\n"
     ]
    }
   ],
   "source": [
    "# capitalize اولین کارکتر رشته را حرف بزرگ میکند\n",
    "print(s1.capitalize())"
   ]
  },
  {
   "cell_type": "code",
   "execution_count": 8,
   "id": "b6abd953-3dd2-4df2-a96f-fe7057ef820e",
   "metadata": {},
   "outputs": [
    {
     "name": "stdout",
     "output_type": "stream",
     "text": [
      "Alireza Sayad\n"
     ]
    }
   ],
   "source": [
    "# title اولین کارکتر هر کلمه را با جرف بزرگ مینویشد\n",
    "print(s1.title())"
   ]
  },
  {
   "cell_type": "code",
   "execution_count": 9,
   "id": "948ba5a9-190a-4036-9a45-07855257d32d",
   "metadata": {},
   "outputs": [
    {
     "name": "stdout",
     "output_type": "stream",
     "text": [
      "alireza sayad\n"
     ]
    }
   ],
   "source": [
    "# casefold تمام رشته را به حروف کوچک تبدیل میکند\n",
    "print(s1.casefold())"
   ]
  },
  {
   "cell_type": "code",
   "execution_count": 10,
   "id": "70b19072-6a98-48e9-93fc-fb5e60a43b6e",
   "metadata": {},
   "outputs": [
    {
     "name": "stdout",
     "output_type": "stream",
     "text": [
      "alireza sayad\n"
     ]
    }
   ],
   "source": [
    "# lower تمام رشته را به حروف کوچک تبدیل \n",
    "print(s1.lower())"
   ]
  },
  {
   "cell_type": "code",
   "execution_count": 11,
   "id": "09a034c8-7481-4d89-ab77-ca28789487cb",
   "metadata": {},
   "outputs": [
    {
     "name": "stdout",
     "output_type": "stream",
     "text": [
      "ALIREZA SAYAD\n"
     ]
    }
   ],
   "source": [
    "# upper تمام رشته را به جروف بزرک تبدیل میکند\n",
    "print(s1.upper())"
   ]
  },
  {
   "cell_type": "code",
   "execution_count": 12,
   "id": "9d327179-84cd-4adb-992d-ba37dfa12762",
   "metadata": {},
   "outputs": [
    {
     "name": "stdout",
     "output_type": "stream",
     "text": [
      "ALIrEZa SAyAD\n"
     ]
    }
   ],
   "source": [
    "# swapcase حروف کوچک تبدیل به حروف بزرگ میشنود و بالعکس\n",
    "print(s1.swapcase())"
   ]
  },
  {
   "cell_type": "code",
   "execution_count": 13,
   "id": "f0ae04fe-883f-460b-91cb-d80254d34ad3",
   "metadata": {},
   "outputs": [
    {
     "name": "stdout",
     "output_type": "stream",
     "text": [
      "False\n",
      "True\n"
     ]
    }
   ],
   "source": [
    "# startswith آیا رشته با مقدار مورد نظر شروع میشود\n",
    "print(s1.startswith('A'))\n",
    "print(s1.startswith('a'))"
   ]
  },
  {
   "cell_type": "code",
   "execution_count": 14,
   "id": "649b787d-e2b8-40dc-b16c-0dd16c997564",
   "metadata": {},
   "outputs": [
    {
     "name": "stdout",
     "output_type": "stream",
     "text": [
      "False\n",
      "True\n"
     ]
    }
   ],
   "source": [
    "# endswith آیا رشته با مقدار مورد نظر تمام میشود\n",
    "print(s1.endswith('D'))\n",
    "print(s1.endswith('d'))"
   ]
  },
  {
   "cell_type": "code",
   "execution_count": 15,
   "id": "3a5066a3-3990-4c66-baea-1bb530c3a61b",
   "metadata": {},
   "outputs": [
    {
     "name": "stdout",
     "output_type": "stream",
     "text": [
      "True\n",
      "False\n"
     ]
    }
   ],
   "source": [
    "# isalnum  آیا متن تشکیل شده از حروف و اعداد است\n",
    "print('AliReza'.isalnum())\n",
    "print('Ali Reza'.isalnum())"
   ]
  },
  {
   "cell_type": "code",
   "execution_count": 16,
   "id": "e8a950e5-1423-43df-ba13-68c1e0aac22d",
   "metadata": {},
   "outputs": [
    {
     "name": "stdout",
     "output_type": "stream",
     "text": [
      "True\n",
      "False\n"
     ]
    }
   ],
   "source": [
    "# isalpha آیا تما اعضای رشته حروف هستند\n",
    "print('AliReza'.isalpha())\n",
    "print('Ali Reza'.isalpha())"
   ]
  },
  {
   "cell_type": "code",
   "execution_count": 17,
   "id": "ffadea5d-413c-4640-9b2e-4d67fb4357dd",
   "metadata": {},
   "outputs": [],
   "source": [
    "s1 = 'aliRezA saYad'"
   ]
  },
  {
   "cell_type": "code",
   "execution_count": 18,
   "id": "ecac1e57-de47-47ac-822d-5f0603efc66a",
   "metadata": {},
   "outputs": [
    {
     "name": "stdout",
     "output_type": "stream",
     "text": [
      "True\n"
     ]
    }
   ],
   "source": [
    "# isascii آیا تمام اعضای رشته کارکتر اسکی هستند\n",
    "print(s1.isascii())"
   ]
  },
  {
   "cell_type": "code",
   "execution_count": 19,
   "id": "e0e0d7f6-f3c0-46a1-b4c4-c1b6e122daf6",
   "metadata": {},
   "outputs": [
    {
     "name": "stdout",
     "output_type": "stream",
     "text": [
      "False\n"
     ]
    }
   ],
   "source": [
    "# isdecimal آیا تمام اعضای رشته کارکتر دسیمال هستند\n",
    "print(s1.isdecimal())"
   ]
  },
  {
   "cell_type": "code",
   "execution_count": 20,
   "id": "d1386db3-6dd7-4d4a-8b88-2d55497f6209",
   "metadata": {},
   "outputs": [
    {
     "name": "stdout",
     "output_type": "stream",
     "text": [
      "False\n",
      "True\n",
      "False\n",
      "False\n"
     ]
    }
   ],
   "source": [
    "# isdigit آیا تمام اعضای رشته عدد هستند\n",
    "print(s1.isdigit())\n",
    "print('55'.isdigit())\n",
    "print('55.5'.isdigit())\n",
    "print('-55'.isdigit())"
   ]
  },
  {
   "cell_type": "code",
   "execution_count": 21,
   "id": "9c374e86-7b7d-4755-a8d6-7cdff7b80400",
   "metadata": {},
   "outputs": [
    {
     "name": "stdout",
     "output_type": "stream",
     "text": [
      "False\n",
      "False\n",
      "True\n"
     ]
    }
   ],
   "source": [
    "# isidentifier آیا رشته از قواعذ نام گذاری پیروی کرده شامل حروف،اعداد و آندرلاین\n",
    "print('aliRezA saYad'.isidentifier())\n",
    "print('Alireza Sayad'.isidentifier())\n",
    "print('aliRezA_saYad'.isidentifier())"
   ]
  },
  {
   "cell_type": "code",
   "execution_count": 24,
   "id": "245fae63-9c07-45ce-a8e0-da836b94aeaa",
   "metadata": {},
   "outputs": [
    {
     "name": "stdout",
     "output_type": "stream",
     "text": [
      "True\n",
      "False\n"
     ]
    }
   ],
   "source": [
    "# islower آیا تمام اعضای رشته حروف کوچک هستند\n",
    "print('aaa'.islower())\n",
    "print('AAA'.islower())"
   ]
  },
  {
   "cell_type": "code",
   "execution_count": 25,
   "id": "99063f14-693e-4632-9553-847e4910aedd",
   "metadata": {},
   "outputs": [
    {
     "name": "stdout",
     "output_type": "stream",
     "text": [
      "False\n",
      "True\n"
     ]
    }
   ],
   "source": [
    "# isupper آیا تمام اعضای رشته حروف بزرگ هستند\n",
    "print('aaa'.isupper())\n",
    "print('AAA'.isupper())"
   ]
  },
  {
   "cell_type": "code",
   "execution_count": 26,
   "id": "2d6393f2-e320-4ef7-bae8-74f50faf17bb",
   "metadata": {},
   "outputs": [
    {
     "name": "stdout",
     "output_type": "stream",
     "text": [
      "True\n",
      "False\n",
      "False\n"
     ]
    }
   ],
   "source": [
    "# isnumeric آیا تمام اعضای رشته عدد هستند\n",
    "print('55'.isnumeric())\n",
    "print('55.5'.isnumeric())\n",
    "print('-55'.isnumeric())"
   ]
  },
  {
   "cell_type": "code",
   "execution_count": 30,
   "id": "9e3d2fee-181e-406f-a9a7-b9fa933900de",
   "metadata": {},
   "outputs": [
    {
     "name": "stdout",
     "output_type": "stream",
     "text": [
      "True\n",
      "False\n",
      "True\n"
     ]
    }
   ],
   "source": [
    "# isprintable آیا تمام کارکتر های رشته قابل چاپ هستند\n",
    "print('Alireza Sayad'.isprintable())\n",
    "print('Alireza\\nSayad'.isprintable()) # \\n چاپ نمیشود\n",
    "print(r'Alireza\\nSayad'.isprintable()) # \\n چاپ میشود"
   ]
  },
  {
   "cell_type": "code",
   "execution_count": 31,
   "id": "13da769a-f90d-4cf7-bb20-fec890b53bc8",
   "metadata": {},
   "outputs": [
    {
     "name": "stdout",
     "output_type": "stream",
     "text": [
      "False\n",
      "True\n"
     ]
    }
   ],
   "source": [
    "# isspace آیا تمام اعضای رشته اسپیس هستند\n",
    "print(''.isspace())\n",
    "print(' '.isspace())"
   ]
  },
  {
   "cell_type": "code",
   "execution_count": 32,
   "id": "47c744b5-bf29-4611-8d7a-0fad9a35d4a0",
   "metadata": {},
   "outputs": [
    {
     "name": "stdout",
     "output_type": "stream",
     "text": [
      "True\n",
      "False\n"
     ]
    }
   ],
   "source": [
    "# istitle آیا رشته از قواعد متد تایتل پیروی میکند\n",
    "print('Alireza Sayad'.istitle())\n",
    "print('Alireza sayad'.istitle())"
   ]
  },
  {
   "cell_type": "code",
   "execution_count": 38,
   "id": "1ad3f181-7ba3-4895-b663-205386499260",
   "metadata": {},
   "outputs": [
    {
     "name": "stdout",
     "output_type": "stream",
     "text": [
      "      Alireza       \n",
      "Alireza\n",
      "******Alireza*******\n",
      "-----------Alireza------------\n"
     ]
    }
   ],
   "source": [
    "# center یک عدد میگیرد و رشته را وسط آن چاپ میکند\n",
    "# اگر عدد از طول رشته کمتر باشد آن را به صورت معمولی چاپ میکند\n",
    "print('Alireza'.center(20))\n",
    "print('Alireza'.center(5))\n",
    "print('Alireza'.center(20, '*'))\n",
    "print('Alireza'.center(30, '-'))"
   ]
  },
  {
   "cell_type": "code",
   "execution_count": 40,
   "id": "8c857712-11f5-43d8-944a-7a7773edfe5b",
   "metadata": {},
   "outputs": [
    {
     "name": "stdout",
     "output_type": "stream",
     "text": [
      "b'\\xd9\\x8eALireza'\n"
     ]
    }
   ],
   "source": [
    "# encode رشته را کد گذاری میکند\n",
    "# more information\n",
    "# https://www.w3schools.com/python/ref_string_encode.asp \n",
    "\n",
    "print('َALireza'.encode())"
   ]
  },
  {
   "cell_type": "code",
   "execution_count": 47,
   "id": "9a207a46-aeff-4f93-a30d-cee8e6ccf437",
   "metadata": {},
   "outputs": [
    {
     "name": "stdout",
     "output_type": "stream",
     "text": [
      "Alireza\n",
      "Ali  reza\n",
      "H e l l o\n"
     ]
    }
   ],
   "source": [
    "# expandtabs اندازه هر تب را در وردوی آن مشخص میکنیم\n",
    "print('Alireza'.expandtabs(2))\n",
    "print('Ali\\treza'.expandtabs(5))\n",
    "print('H\\te\\tl\\tl\\to'.expandtabs(1))"
   ]
  },
  {
   "cell_type": "code",
   "execution_count": 50,
   "id": "260f37fa-f8da-4529-b052-0793e4df2187",
   "metadata": {},
   "outputs": [
    {
     "name": "stdout",
     "output_type": "stream",
     "text": [
      "Alireza   \n",
      "Alireza***\n",
      "10\n"
     ]
    }
   ],
   "source": [
    "# ljust سمت راست رشته را اسپیس قرار میدهد\n",
    "print('Alireza'.ljust(10))\n",
    "print('Alireza'.ljust(10, '*'))\n",
    "x = 'Alireza'.ljust(10, '*')\n",
    "print(len(x))"
   ]
  },
  {
   "cell_type": "code",
   "execution_count": 51,
   "id": "0eca7e3f-fcd1-4fd6-b1e8-231e1fa60af4",
   "metadata": {},
   "outputs": [
    {
     "name": "stdout",
     "output_type": "stream",
     "text": [
      "   Alireza\n",
      "---Alireza\n",
      "10\n"
     ]
    }
   ],
   "source": [
    "# rjust سمت چپ رشته را اسپیس قرار میدهد\n",
    "print('Alireza'.rjust(10))\n",
    "print('Alireza'.rjust(10, '-'))\n",
    "x = 'Alireza'.rjust(10, '*')\n",
    "print(len(x))"
   ]
  },
  {
   "cell_type": "code",
   "execution_count": 54,
   "id": "75cff887-d6cb-4fc5-b4c4-a02b310dc099",
   "metadata": {},
   "outputs": [
    {
     "name": "stdout",
     "output_type": "stream",
     "text": [
      "Ali        |\n",
      "|        Ali        |\n"
     ]
    }
   ],
   "source": [
    "# lstrip اسپیس های سمت چپ رشته را حذف میکند\n",
    "print('           Ali        |'.lstrip())\n",
    "print('   |        Ali        |'.lstrip())"
   ]
  },
  {
   "cell_type": "code",
   "execution_count": 59,
   "id": "e2092014-7faf-4516-bb0e-9cf913f7900f",
   "metadata": {},
   "outputs": [
    {
     "name": "stdout",
     "output_type": "stream",
     "text": [
      "Ali Reza\n"
     ]
    }
   ],
   "source": [
    "# strip اسپیس های اضافه را حذف \n",
    "print('           Ali        '.strip(), 'Reza')"
   ]
  },
  {
   "cell_type": "code",
   "execution_count": 70,
   "id": "2d71c0fc-53a4-43d3-8d05-a77ac012dedb",
   "metadata": {},
   "outputs": [
    {
     "name": "stdout",
     "output_type": "stream",
     "text": [
      "3\n"
     ]
    }
   ],
   "source": [
    "# count تعدا کارکتر های مورد نظر در رشته را برمیگرداند\n",
    "print('AAlirezA'.count('A'))"
   ]
  },
  {
   "cell_type": "code",
   "execution_count": 71,
   "id": "26e73e75-1ec5-4d47-bd68-04f08cf8cee6",
   "metadata": {},
   "outputs": [
    {
     "name": "stdout",
     "output_type": "stream",
     "text": [
      "0\n"
     ]
    }
   ],
   "source": [
    "# find ایندکس کارکتر مورد نظر را برمیگرداند\n",
    "print('AAlirezA'.find('A'))"
   ]
  },
  {
   "cell_type": "code",
   "execution_count": 72,
   "id": "6cdcb471-f3de-47cb-b6bd-9b743a0de6a3",
   "metadata": {},
   "outputs": [
    {
     "name": "stdout",
     "output_type": "stream",
     "text": [
      "7\n"
     ]
    }
   ],
   "source": [
    "# find آخرین ایندکس کارکتر مورد نظر را برمیگرداند\n",
    "print('AAlirezA'.rfind('A'))"
   ]
  },
  {
   "cell_type": "code",
   "execution_count": 73,
   "id": "58eeb8d4-f1b7-42aa-9178-2566a0b53cdd",
   "metadata": {},
   "outputs": [
    {
     "name": "stdout",
     "output_type": "stream",
     "text": [
      "0\n"
     ]
    }
   ],
   "source": [
    "# index ایندکس کارکتر مورد نظر را برمیگرداند\n",
    "print('AAlirezA'.index('A'))"
   ]
  },
  {
   "cell_type": "code",
   "execution_count": 74,
   "id": "3e03d0d9-de88-4a62-ac56-c350e72bd82b",
   "metadata": {},
   "outputs": [
    {
     "name": "stdout",
     "output_type": "stream",
     "text": [
      "7\n"
     ]
    }
   ],
   "source": [
    "# rindex آخرین ایندکس کارکتر مورد نظر را برمیگرداند\n",
    "print('AAlirezA'.rindex('A'))"
   ]
  },
  {
   "cell_type": "code",
   "execution_count": 77,
   "id": "623e6a9f-3418-423a-a03b-a8943630116a",
   "metadata": {},
   "outputs": [
    {
     "name": "stdout",
     "output_type": "stream",
     "text": [
      "('Ali ', 'Reza', ' Sayad')\n",
      "('Ali ', 'R', 'eza Sayad')\n"
     ]
    }
   ],
   "source": [
    "# partition قبل و بعد ورودی را تبیدل به تاپل میکند\n",
    "print('Ali Reza Sayad'.partition('Reza'))\n",
    "print('Ali Reza Sayad'.partition('R'))"
   ]
  },
  {
   "cell_type": "code",
   "execution_count": 80,
   "id": "0e2cdd3b-88ab-4f14-8afd-6c5b1d39698a",
   "metadata": {},
   "outputs": [
    {
     "name": "stdout",
     "output_type": "stream",
     "text": [
      "my name is Alireza and 17 years old\n",
      "my name is Alireza and 17 years old\n"
     ]
    }
   ],
   "source": [
    "# format مقدار مشخص شده را در رشته قرار میدهد\n",
    "print('my name is {} and {} years old'.format('Alireza',17))\n",
    "print('my name is {name} and {age} years old'.format(age= 17,name='Alireza'))"
   ]
  },
  {
   "cell_type": "code",
   "execution_count": 83,
   "id": "f6bd52e0-4432-4f4d-91e7-cc8ca0f20a92",
   "metadata": {},
   "outputs": [
    {
     "name": "stdout",
     "output_type": "stream",
     "text": [
      "['my', 'name', 'is', 'Alireza', 'and', '17', 'years', 'old']\n",
      "['my', 'name', 'is Alireza', 'and', '17 years old']\n"
     ]
    }
   ],
   "source": [
    "# split یک رشته را براساس ورودی میشکند و تبدیل به لیست میکند\n",
    "text = 'my name is Alireza and 17 years old'\n",
    "print(text.split())\n",
    "text1 = 'my,name,is Alireza,and,17 years old'\n",
    "print(text1.split(','))"
   ]
  },
  {
   "cell_type": "code",
   "execution_count": 1,
   "id": "72c02827-9c04-4ece-9b32-2534085ade2e",
   "metadata": {},
   "outputs": [
    {
     "name": "stdout",
     "output_type": "stream",
     "text": [
      "John#Peter#Vicky\n"
     ]
    }
   ],
   "source": [
    "# join کارکتر مورد نظر را به جای کاما قرار میدهد\n",
    "text = (\"John\", \"Peter\", \"Vicky\")\n",
    "x = \"#\".join(text)\n",
    "print(x)"
   ]
  }
 ],
 "metadata": {
  "kernelspec": {
   "display_name": "Python 3",
   "language": "python",
   "name": "python3"
  },
  "language_info": {
   "codemirror_mode": {
    "name": "ipython",
    "version": 3
   },
   "file_extension": ".py",
   "mimetype": "text/x-python",
   "name": "python",
   "nbconvert_exporter": "python",
   "pygments_lexer": "ipython3",
   "version": "3.13.1"
  }
 },
 "nbformat": 4,
 "nbformat_minor": 5
}
