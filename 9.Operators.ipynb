{
 "cells": [
  {
   "cell_type": "markdown",
   "id": "90b4d730-0426-4981-befd-9e0d7f9fe8e2",
   "metadata": {},
   "source": [
    "عملگر ها:"
   ]
  },
  {
   "cell_type": "markdown",
   "id": "a88284f0-d5dc-4786-9ee2-f47d15e7ffec",
   "metadata": {},
   "source": [
    "عملگر های حسابی:"
   ]
  },
  {
   "cell_type": "code",
   "execution_count": 1,
   "id": "66445e2c-a367-4678-b5fa-eff616240244",
   "metadata": {},
   "outputs": [
    {
     "name": "stdout",
     "output_type": "stream",
     "text": [
      "7\n"
     ]
    }
   ],
   "source": [
    "# + ---> جمع\n",
    "print(2+5)"
   ]
  },
  {
   "cell_type": "code",
   "execution_count": 2,
   "id": "f47676e9-4406-4ac8-bddf-59168db2aba0",
   "metadata": {},
   "outputs": [
    {
     "name": "stdout",
     "output_type": "stream",
     "text": [
      "-5\n"
     ]
    }
   ],
   "source": [
    "# - ---> تفریق\n",
    "print(15-20)"
   ]
  },
  {
   "cell_type": "code",
   "execution_count": 3,
   "id": "419eeb68-0a52-4cab-92eb-a718ad0f85eb",
   "metadata": {},
   "outputs": [
    {
     "name": "stdout",
     "output_type": "stream",
     "text": [
      "30\n"
     ]
    }
   ],
   "source": [
    "# * ---> ضرب\n",
    "print(10*3)"
   ]
  },
  {
   "cell_type": "code",
   "execution_count": 4,
   "id": "63b3621a-8bf2-4783-8bc8-12e49584c668",
   "metadata": {},
   "outputs": [
    {
     "name": "stdout",
     "output_type": "stream",
     "text": [
      "3.3333333333333335\n"
     ]
    }
   ],
   "source": [
    "# / ---> تقسیم\n",
    "print(10/3)"
   ]
  },
  {
   "cell_type": "code",
   "execution_count": 5,
   "id": "d36c8abe-f481-4a52-a198-0719a45cc37b",
   "metadata": {},
   "outputs": [
    {
     "name": "stdout",
     "output_type": "stream",
     "text": [
      "1\n"
     ]
    }
   ],
   "source": [
    "# % ---> باقی مانده تقسیم\n",
    "print(10%3)"
   ]
  },
  {
   "cell_type": "code",
   "execution_count": 6,
   "id": "29daf7b1-3a25-4f79-a425-6abcc46b7565",
   "metadata": {},
   "outputs": [
    {
     "name": "stdout",
     "output_type": "stream",
     "text": [
      "3\n"
     ]
    }
   ],
   "source": [
    "# // ---> خارج قسمت\n",
    "print(10//3)"
   ]
  },
  {
   "cell_type": "code",
   "execution_count": 7,
   "id": "fc68b674-e35e-416a-9f64-c0b134129efa",
   "metadata": {},
   "outputs": [
    {
     "name": "stdout",
     "output_type": "stream",
     "text": [
      "8\n"
     ]
    }
   ],
   "source": [
    "# ** ---> توان\n",
    "print(2**3)"
   ]
  },
  {
   "cell_type": "code",
   "execution_count": 8,
   "id": "c9bdf111-853b-42cd-8a65-72fee5c8d03a",
   "metadata": {},
   "outputs": [
    {
     "name": "stdout",
     "output_type": "stream",
     "text": [
      "2.0\n"
     ]
    }
   ],
   "source": [
    "# **0.5 ---> جذر\n",
    "print(4**0.5)"
   ]
  },
  {
   "cell_type": "markdown",
   "id": "9899aca6-7423-42b4-bbcf-aff50552c0f6",
   "metadata": {},
   "source": [
    "عملگر های مقایسه ای:"
   ]
  },
  {
   "cell_type": "code",
   "execution_count": 10,
   "id": "c2c33ca8-9e59-4821-bfbb-d62b483669af",
   "metadata": {},
   "outputs": [
    {
     "name": "stdout",
     "output_type": "stream",
     "text": [
      "True\n"
     ]
    }
   ],
   "source": [
    "# < ---> بزرگتر\n",
    "print(5<20)"
   ]
  },
  {
   "cell_type": "code",
   "execution_count": 11,
   "id": "70813946-389f-4a79-9523-ba9a5d8c78bd",
   "metadata": {},
   "outputs": [
    {
     "name": "stdout",
     "output_type": "stream",
     "text": [
      "False\n"
     ]
    }
   ],
   "source": [
    "# > ---> کوچکتر\n",
    "print(5>20)"
   ]
  },
  {
   "cell_type": "code",
   "execution_count": 12,
   "id": "759066ec-f4f5-4264-9a35-9cbdbd88a923",
   "metadata": {},
   "outputs": [
    {
     "name": "stdout",
     "output_type": "stream",
     "text": [
      "True\n"
     ]
    }
   ],
   "source": [
    "# <= ---> بزرگتر مساوی\n",
    "print(5<=5)"
   ]
  },
  {
   "cell_type": "code",
   "execution_count": 13,
   "id": "ab1b9e3b-2c5c-49ae-82ba-9e2287882acf",
   "metadata": {},
   "outputs": [
    {
     "name": "stdout",
     "output_type": "stream",
     "text": [
      "True\n"
     ]
    }
   ],
   "source": [
    "# >= ---> کوچکتر مساوی\n",
    "print(5>=5)"
   ]
  },
  {
   "cell_type": "code",
   "execution_count": 14,
   "id": "a948063f-16b2-44e2-b6da-e7fa2ac297cf",
   "metadata": {},
   "outputs": [
    {
     "name": "stdout",
     "output_type": "stream",
     "text": [
      "True\n"
     ]
    }
   ],
   "source": [
    "# == ---> برابری\n",
    "print(6==6)"
   ]
  },
  {
   "cell_type": "code",
   "execution_count": 15,
   "id": "e4879132-1851-45f2-b1b6-40a2653a0f04",
   "metadata": {},
   "outputs": [
    {
     "name": "stdout",
     "output_type": "stream",
     "text": [
      "False\n"
     ]
    }
   ],
   "source": [
    "# != ---> نابرابری\n",
    "print(6!=6)"
   ]
  },
  {
   "cell_type": "markdown",
   "id": "64500665-9b8c-4d55-bf34-a5b8e93bfb76",
   "metadata": {},
   "source": [
    "عملگر های منطقی:"
   ]
  },
  {
   "cell_type": "code",
   "execution_count": null,
   "id": "c49878db-f4c6-4908-86f4-251a3785d3f4",
   "metadata": {},
   "outputs": [
    {
     "name": "stdout",
     "output_type": "stream",
     "text": [
      "True\n",
      "False\n"
     ]
    }
   ],
   "source": [
    "# and \n",
    "# all True == condition True\n",
    "# one False == condition False\n",
    "print(5>0 and 6>3 and 90>25)\n",
    "print(5>0 and 6>3 and 90<25)"
   ]
  },
  {
   "cell_type": "code",
   "execution_count": null,
   "id": "690e9562-6577-4208-9c9f-6679e94221f1",
   "metadata": {},
   "outputs": [
    {
     "name": "stdout",
     "output_type": "stream",
     "text": [
      "True\n",
      "False\n"
     ]
    }
   ],
   "source": [
    "# or \n",
    "# one True == condition True\n",
    "# all False == condition False\n",
    "print(0==1 or 0>15 or 25>16)\n",
    "print(0==1 or 0>15 or 25<=16)"
   ]
  },
  {
   "cell_type": "code",
   "execution_count": 19,
   "id": "9dc2de55-5961-4a6c-967e-fe3cf5239744",
   "metadata": {},
   "outputs": [
    {
     "name": "stdout",
     "output_type": "stream",
     "text": [
      "True\n",
      "False\n"
     ]
    }
   ],
   "source": [
    "# not ---> عبارت درست را غلط میکند و عبارت غلط را درست میکند\n",
    "print(5==5)\n",
    "print(not 5==5)"
   ]
  },
  {
   "cell_type": "markdown",
   "id": "be4f6e0e-dec7-4182-9afd-aae90f8671f1",
   "metadata": {},
   "source": [
    "عملگر همانی:"
   ]
  },
  {
   "cell_type": "code",
   "execution_count": null,
   "id": "26e0e9d3-de14-4efa-a045-1b917e94e264",
   "metadata": {},
   "outputs": [
    {
     "name": "stdout",
     "output_type": "stream",
     "text": [
      "True\n",
      "False\n",
      "-------------\n",
      "False\n",
      "False\n"
     ]
    }
   ],
   "source": [
    "# is ---> اشاره به آدرس متغیر دارد\n",
    "l1 = [1,2]\n",
    "l2 = l1\n",
    "l3 = [1,2]\n",
    "print(l1 is l2)\n",
    "print(l1 is l3)\n",
    "print('-------------')\n",
    "l1 = [1,2]\n",
    "l2 = l1.copy\n",
    "l3 = [1,2]\n",
    "print(l1 is l2)\n",
    "print(l1 is l3)"
   ]
  },
  {
   "cell_type": "code",
   "execution_count": 28,
   "id": "14edd458-6633-4f51-9774-1ebba9f39231",
   "metadata": {},
   "outputs": [
    {
     "name": "stdout",
     "output_type": "stream",
     "text": [
      "False\n",
      "True\n"
     ]
    }
   ],
   "source": [
    "# is not\n",
    "x = 1\n",
    "y = x\n",
    "z = 5\n",
    "print(x is not y)\n",
    "print(z is not x)"
   ]
  },
  {
   "cell_type": "markdown",
   "id": "dc68885e-43b4-48f0-bca3-a4424b2385a8",
   "metadata": {},
   "source": [
    "عملگر عضویت:"
   ]
  },
  {
   "cell_type": "code",
   "execution_count": 30,
   "id": "5563de64-5ce5-44cd-8a09-c225788e23d9",
   "metadata": {},
   "outputs": [
    {
     "name": "stdout",
     "output_type": "stream",
     "text": [
      "True\n"
     ]
    }
   ],
   "source": [
    "# in\n",
    "print(5 in [5,4,3])"
   ]
  },
  {
   "cell_type": "code",
   "execution_count": 31,
   "id": "fa239e52-a710-4ae0-9fb7-06bf97b2f7eb",
   "metadata": {},
   "outputs": [
    {
     "name": "stdout",
     "output_type": "stream",
     "text": [
      "False\n"
     ]
    }
   ],
   "source": [
    "# not in\n",
    "print(5 not in [5,4,3])"
   ]
  }
 ],
 "metadata": {
  "kernelspec": {
   "display_name": "Python 3",
   "language": "python",
   "name": "python3"
  },
  "language_info": {
   "codemirror_mode": {
    "name": "ipython",
    "version": 3
   },
   "file_extension": ".py",
   "mimetype": "text/x-python",
   "name": "python",
   "nbconvert_exporter": "python",
   "pygments_lexer": "ipython3",
   "version": "3.12.6"
  }
 },
 "nbformat": 4,
 "nbformat_minor": 5
}
